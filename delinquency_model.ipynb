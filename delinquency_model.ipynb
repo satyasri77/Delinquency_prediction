{
 "cells": [
  {
   "cell_type": "code",
   "execution_count": 1,
   "id": "5ba31a58",
   "metadata": {},
   "outputs": [],
   "source": [
    "import warnings\n",
    "warnings.filterwarnings('ignore')\n",
    "import pandas as pd\n",
    "import numpy as np\n",
    "from sklearn.linear_model import LogisticRegression  \n",
    "from sklearn.ensemble import RandomForestClassifier, GradientBoostingClassifier \n",
    "from sklearn.tree import DecisionTreeClassifier  \n",
    "from sklearn.preprocessing import StandardScaler    \n",
    "from sklearn.model_selection import train_test_split,RandomizedSearchCV, GridSearchCV \n",
    "from sklearn.metrics import (confusion_matrix, precision_score,recall_score,\n",
    "                              classification_report,make_scorer,fbeta_score,roc_auc_score) \n",
    "from sklearn.utils import class_weight\n",
    "from imblearn.over_sampling import SMOTE\n",
    "from imblearn.under_sampling import RandomUnderSampler\n",
    "from imblearn.over_sampling import RandomOverSampler\n",
    "from imblearn.pipeline import Pipeline\n",
    "import xgboost\n",
    "import seaborn as sns\n",
    "import matplotlib.pyplot as plt\n",
    "from xgboost import XGBClassifier"
   ]
  },
  {
   "cell_type": "code",
   "execution_count": 2,
   "id": "568bc865",
   "metadata": {},
   "outputs": [
    {
     "data": {
      "text/html": [
       "<div>\n",
       "<style scoped>\n",
       "    .dataframe tbody tr th:only-of-type {\n",
       "        vertical-align: middle;\n",
       "    }\n",
       "\n",
       "    .dataframe tbody tr th {\n",
       "        vertical-align: top;\n",
       "    }\n",
       "\n",
       "    .dataframe thead th {\n",
       "        text-align: right;\n",
       "    }\n",
       "</style>\n",
       "<table border=\"1\" class=\"dataframe\">\n",
       "  <thead>\n",
       "    <tr style=\"text-align: right;\">\n",
       "      <th></th>\n",
       "      <th>Var0</th>\n",
       "      <th>Var1</th>\n",
       "      <th>Var7</th>\n",
       "      <th>Var8</th>\n",
       "      <th>Var9</th>\n",
       "      <th>Var10</th>\n",
       "      <th>Var6</th>\n",
       "      <th>Var11</th>\n",
       "      <th>Var5</th>\n",
       "      <th>Var3</th>\n",
       "      <th>Var4</th>\n",
       "      <th>Var2</th>\n",
       "    </tr>\n",
       "  </thead>\n",
       "  <tbody>\n",
       "    <tr>\n",
       "      <th>0</th>\n",
       "      <td>127899</td>\n",
       "      <td>0</td>\n",
       "      <td>8</td>\n",
       "      <td>0</td>\n",
       "      <td>0</td>\n",
       "      <td>1</td>\n",
       "      <td>0</td>\n",
       "      <td>0</td>\n",
       "      <td>60212.0</td>\n",
       "      <td>63</td>\n",
       "      <td>0</td>\n",
       "      <td>0.351737</td>\n",
       "    </tr>\n",
       "    <tr>\n",
       "      <th>1</th>\n",
       "      <td>146311</td>\n",
       "      <td>0</td>\n",
       "      <td>16</td>\n",
       "      <td>0</td>\n",
       "      <td>1</td>\n",
       "      <td>0</td>\n",
       "      <td>0</td>\n",
       "      <td>0</td>\n",
       "      <td>49112.0</td>\n",
       "      <td>52</td>\n",
       "      <td>2</td>\n",
       "      <td>0.895729</td>\n",
       "    </tr>\n",
       "    <tr>\n",
       "      <th>2</th>\n",
       "      <td>19362</td>\n",
       "      <td>0</td>\n",
       "      <td>4</td>\n",
       "      <td>0</td>\n",
       "      <td>1</td>\n",
       "      <td>0</td>\n",
       "      <td>0</td>\n",
       "      <td>0</td>\n",
       "      <td>25801.0</td>\n",
       "      <td>48</td>\n",
       "      <td>0</td>\n",
       "      <td>0.108889</td>\n",
       "    </tr>\n",
       "    <tr>\n",
       "      <th>3</th>\n",
       "      <td>63856</td>\n",
       "      <td>0</td>\n",
       "      <td>3</td>\n",
       "      <td>0</td>\n",
       "      <td>0</td>\n",
       "      <td>0</td>\n",
       "      <td>0</td>\n",
       "      <td>0</td>\n",
       "      <td>25033.0</td>\n",
       "      <td>66</td>\n",
       "      <td>0</td>\n",
       "      <td>0.000000</td>\n",
       "    </tr>\n",
       "    <tr>\n",
       "      <th>4</th>\n",
       "      <td>66930</td>\n",
       "      <td>1</td>\n",
       "      <td>13</td>\n",
       "      <td>1</td>\n",
       "      <td>0</td>\n",
       "      <td>1</td>\n",
       "      <td>0</td>\n",
       "      <td>0</td>\n",
       "      <td>20809.0</td>\n",
       "      <td>94</td>\n",
       "      <td>1</td>\n",
       "      <td>0.063049</td>\n",
       "    </tr>\n",
       "  </tbody>\n",
       "</table>\n",
       "</div>"
      ],
      "text/plain": [
       "     Var0  Var1  Var7  Var8  Var9  Var10 Var6 Var11     Var5  Var3  Var4  \\\n",
       "0  127899     0     8     0     0      1    0     0  60212.0    63     0   \n",
       "1  146311     0    16     0     1      0    0     0  49112.0    52     2   \n",
       "2   19362     0     4     0     1      0    0     0  25801.0    48     0   \n",
       "3   63856     0     3     0     0      0    0     0  25033.0    66     0   \n",
       "4   66930     1    13     1     0      1    0     0  20809.0    94     1   \n",
       "\n",
       "       Var2  \n",
       "0  0.351737  \n",
       "1  0.895729  \n",
       "2  0.108889  \n",
       "3  0.000000  \n",
       "4  0.063049  "
      ]
     },
     "execution_count": 2,
     "metadata": {},
     "output_type": "execute_result"
    }
   ],
   "source": [
    "train = pd.read_csv(r'/Users/satyasriallaka/Documents/accenture_ml_problem/Task2- Training_Dataset.csv')\n",
    "test = pd.read_csv(r'/Users/satyasriallaka/Documents/accenture_ml_problem/Task2- Test_Dataset_OOS.csv')\n",
    "train.head()"
   ]
  },
  {
   "cell_type": "code",
   "execution_count": 3,
   "id": "79a4d659",
   "metadata": {},
   "outputs": [
    {
     "data": {
      "text/html": [
       "<div>\n",
       "<style scoped>\n",
       "    .dataframe tbody tr th:only-of-type {\n",
       "        vertical-align: middle;\n",
       "    }\n",
       "\n",
       "    .dataframe tbody tr th {\n",
       "        vertical-align: top;\n",
       "    }\n",
       "\n",
       "    .dataframe thead th {\n",
       "        text-align: right;\n",
       "    }\n",
       "</style>\n",
       "<table border=\"1\" class=\"dataframe\">\n",
       "  <thead>\n",
       "    <tr style=\"text-align: right;\">\n",
       "      <th></th>\n",
       "      <th>cust_id</th>\n",
       "      <th>target</th>\n",
       "      <th>open_loans</th>\n",
       "      <th>delinquency_90days</th>\n",
       "      <th>mortagage</th>\n",
       "      <th>delinquency_60days</th>\n",
       "      <th>income</th>\n",
       "      <th>dependents</th>\n",
       "      <th>iir</th>\n",
       "      <th>age</th>\n",
       "      <th>delinquency_30days</th>\n",
       "      <th>line_of_credit</th>\n",
       "    </tr>\n",
       "  </thead>\n",
       "  <tbody>\n",
       "    <tr>\n",
       "      <th>0</th>\n",
       "      <td>127899</td>\n",
       "      <td>0</td>\n",
       "      <td>8</td>\n",
       "      <td>0</td>\n",
       "      <td>0</td>\n",
       "      <td>1</td>\n",
       "      <td>0</td>\n",
       "      <td>0</td>\n",
       "      <td>60212.0</td>\n",
       "      <td>63</td>\n",
       "      <td>0</td>\n",
       "      <td>0.351737</td>\n",
       "    </tr>\n",
       "    <tr>\n",
       "      <th>1</th>\n",
       "      <td>146311</td>\n",
       "      <td>0</td>\n",
       "      <td>16</td>\n",
       "      <td>0</td>\n",
       "      <td>1</td>\n",
       "      <td>0</td>\n",
       "      <td>0</td>\n",
       "      <td>0</td>\n",
       "      <td>49112.0</td>\n",
       "      <td>52</td>\n",
       "      <td>2</td>\n",
       "      <td>0.895729</td>\n",
       "    </tr>\n",
       "    <tr>\n",
       "      <th>2</th>\n",
       "      <td>19362</td>\n",
       "      <td>0</td>\n",
       "      <td>4</td>\n",
       "      <td>0</td>\n",
       "      <td>1</td>\n",
       "      <td>0</td>\n",
       "      <td>0</td>\n",
       "      <td>0</td>\n",
       "      <td>25801.0</td>\n",
       "      <td>48</td>\n",
       "      <td>0</td>\n",
       "      <td>0.108889</td>\n",
       "    </tr>\n",
       "    <tr>\n",
       "      <th>3</th>\n",
       "      <td>63856</td>\n",
       "      <td>0</td>\n",
       "      <td>3</td>\n",
       "      <td>0</td>\n",
       "      <td>0</td>\n",
       "      <td>0</td>\n",
       "      <td>0</td>\n",
       "      <td>0</td>\n",
       "      <td>25033.0</td>\n",
       "      <td>66</td>\n",
       "      <td>0</td>\n",
       "      <td>0.000000</td>\n",
       "    </tr>\n",
       "    <tr>\n",
       "      <th>4</th>\n",
       "      <td>66930</td>\n",
       "      <td>1</td>\n",
       "      <td>13</td>\n",
       "      <td>1</td>\n",
       "      <td>0</td>\n",
       "      <td>1</td>\n",
       "      <td>0</td>\n",
       "      <td>0</td>\n",
       "      <td>20809.0</td>\n",
       "      <td>94</td>\n",
       "      <td>1</td>\n",
       "      <td>0.063049</td>\n",
       "    </tr>\n",
       "  </tbody>\n",
       "</table>\n",
       "</div>"
      ],
      "text/plain": [
       "   cust_id  target  open_loans  delinquency_90days  mortagage  \\\n",
       "0   127899       0           8                   0          0   \n",
       "1   146311       0          16                   0          1   \n",
       "2    19362       0           4                   0          1   \n",
       "3    63856       0           3                   0          0   \n",
       "4    66930       1          13                   1          0   \n",
       "\n",
       "   delinquency_60days income dependents      iir  age  delinquency_30days  \\\n",
       "0                   1      0          0  60212.0   63                   0   \n",
       "1                   0      0          0  49112.0   52                   2   \n",
       "2                   0      0          0  25801.0   48                   0   \n",
       "3                   0      0          0  25033.0   66                   0   \n",
       "4                   1      0          0  20809.0   94                   1   \n",
       "\n",
       "   line_of_credit  \n",
       "0        0.351737  \n",
       "1        0.895729  \n",
       "2        0.108889  \n",
       "3        0.000000  \n",
       "4        0.063049  "
      ]
     },
     "execution_count": 3,
     "metadata": {},
     "output_type": "execute_result"
    }
   ],
   "source": [
    "train.rename(columns={'Var0':'cust_id','Var1':'target','Var2':'line_of_credit','Var3':'age',\n",
    "                      'Var4':'delinquency_30days','Var5':'iir','Var6':'income',\n",
    "                      'Var7':'open_loans','Var8':'delinquency_90days',\n",
    "                      'Var9':'mortagage','Var10':'delinquency_60days',\n",
    "                      'Var11':'dependents'},inplace=True)\n",
    "train.head()"
   ]
  },
  {
   "cell_type": "markdown",
   "id": "8e90230b",
   "metadata": {},
   "source": [
    "event rate is 6%"
   ]
  },
  {
   "cell_type": "code",
   "execution_count": 4,
   "id": "e929bd20",
   "metadata": {},
   "outputs": [
    {
     "data": {
      "text/plain": [
       "0    0.93316\n",
       "1    0.06684\n",
       "Name: target, dtype: float64"
      ]
     },
     "execution_count": 4,
     "metadata": {},
     "output_type": "execute_result"
    }
   ],
   "source": [
    "train['target'].value_counts(normalize=True)"
   ]
  },
  {
   "cell_type": "code",
   "execution_count": 5,
   "id": "32d11a14",
   "metadata": {},
   "outputs": [
    {
     "data": {
      "text/plain": [
       "array(['0', '1'], dtype=object)"
      ]
     },
     "execution_count": 5,
     "metadata": {},
     "output_type": "execute_result"
    }
   ],
   "source": [
    "train['target'] = train['target'].astype(str)\n",
    "train['target'].unique()"
   ]
  },
  {
   "cell_type": "code",
   "execution_count": 6,
   "id": "5ebafdb8",
   "metadata": {},
   "outputs": [
    {
     "data": {
      "image/png": "[encoded data removed]",
      "text/plain": [
       "<Figure size 432x288 with 1 Axes>"
      ]
     },
     "metadata": {
      "needs_background": "light"
     },
     "output_type": "display_data"
    }
   ],
   "source": [
    "sns.histplot(data=train,x='target')\n",
    "train['target'] = train['target'].astype(int)"
   ]
  },
  {
   "cell_type": "code",
   "execution_count": 7,
   "id": "9057110b",
   "metadata": {},
   "outputs": [
    {
     "name": "stdout",
     "output_type": "stream",
     "text": [
      "<class 'pandas.core.frame.DataFrame'>\n",
      "RangeIndex: 150000 entries, 0 to 149999\n",
      "Data columns (total 12 columns):\n",
      " #   Column              Non-Null Count   Dtype  \n",
      "---  ------              --------------   -----  \n",
      " 0   cust_id             150000 non-null  int64  \n",
      " 1   target              150000 non-null  int64  \n",
      " 2   open_loans          150000 non-null  int64  \n",
      " 3   delinquency_90days  150000 non-null  int64  \n",
      " 4   mortagage           150000 non-null  int64  \n",
      " 5   delinquency_60days  150000 non-null  int64  \n",
      " 6   income              150000 non-null  object \n",
      " 7   dependents          150000 non-null  object \n",
      " 8   iir                 150000 non-null  float64\n",
      " 9   age                 150000 non-null  int64  \n",
      " 10  delinquency_30days  150000 non-null  int64  \n",
      " 11  line_of_credit      150000 non-null  float64\n",
      "dtypes: float64(2), int64(8), object(2)\n",
      "memory usage: 13.7+ MB\n"
     ]
    }
   ],
   "source": [
    "train.info()"
   ]
  },
  {
   "cell_type": "code",
   "execution_count": 8,
   "id": "64e11612",
   "metadata": {},
   "outputs": [
    {
     "data": {
      "text/html": [
       "<div>\n",
       "<style scoped>\n",
       "    .dataframe tbody tr th:only-of-type {\n",
       "        vertical-align: middle;\n",
       "    }\n",
       "\n",
       "    .dataframe tbody tr th {\n",
       "        vertical-align: top;\n",
       "    }\n",
       "\n",
       "    .dataframe thead th {\n",
       "        text-align: right;\n",
       "    }\n",
       "</style>\n",
       "<table border=\"1\" class=\"dataframe\">\n",
       "  <thead>\n",
       "    <tr style=\"text-align: right;\">\n",
       "      <th></th>\n",
       "      <th>cust_id</th>\n",
       "      <th>target</th>\n",
       "      <th>open_loans</th>\n",
       "      <th>delinquency_90days</th>\n",
       "      <th>mortagage</th>\n",
       "      <th>delinquency_60days</th>\n",
       "      <th>iir</th>\n",
       "      <th>age</th>\n",
       "      <th>delinquency_30days</th>\n",
       "      <th>line_of_credit</th>\n",
       "    </tr>\n",
       "  </thead>\n",
       "  <tbody>\n",
       "    <tr>\n",
       "      <th>count</th>\n",
       "      <td>150000.000000</td>\n",
       "      <td>150000.000000</td>\n",
       "      <td>150000.000000</td>\n",
       "      <td>150000.000000</td>\n",
       "      <td>150000.000000</td>\n",
       "      <td>150000.000000</td>\n",
       "      <td>150000.000000</td>\n",
       "      <td>150000.000000</td>\n",
       "      <td>150000.000000</td>\n",
       "      <td>150000.000000</td>\n",
       "    </tr>\n",
       "    <tr>\n",
       "      <th>mean</th>\n",
       "      <td>75000.500000</td>\n",
       "      <td>0.066840</td>\n",
       "      <td>8.452760</td>\n",
       "      <td>0.265973</td>\n",
       "      <td>1.018240</td>\n",
       "      <td>0.240387</td>\n",
       "      <td>353.005076</td>\n",
       "      <td>52.295207</td>\n",
       "      <td>0.421033</td>\n",
       "      <td>6.048438</td>\n",
       "    </tr>\n",
       "    <tr>\n",
       "      <th>std</th>\n",
       "      <td>43301.414527</td>\n",
       "      <td>0.249746</td>\n",
       "      <td>5.145951</td>\n",
       "      <td>4.169304</td>\n",
       "      <td>1.129771</td>\n",
       "      <td>4.155179</td>\n",
       "      <td>2037.818523</td>\n",
       "      <td>14.771866</td>\n",
       "      <td>4.192781</td>\n",
       "      <td>249.755371</td>\n",
       "    </tr>\n",
       "    <tr>\n",
       "      <th>min</th>\n",
       "      <td>1.000000</td>\n",
       "      <td>0.000000</td>\n",
       "      <td>0.000000</td>\n",
       "      <td>0.000000</td>\n",
       "      <td>0.000000</td>\n",
       "      <td>0.000000</td>\n",
       "      <td>0.000000</td>\n",
       "      <td>0.000000</td>\n",
       "      <td>0.000000</td>\n",
       "      <td>0.000000</td>\n",
       "    </tr>\n",
       "    <tr>\n",
       "      <th>25%</th>\n",
       "      <td>37500.750000</td>\n",
       "      <td>0.000000</td>\n",
       "      <td>5.000000</td>\n",
       "      <td>0.000000</td>\n",
       "      <td>0.000000</td>\n",
       "      <td>0.000000</td>\n",
       "      <td>0.175074</td>\n",
       "      <td>41.000000</td>\n",
       "      <td>0.000000</td>\n",
       "      <td>0.029867</td>\n",
       "    </tr>\n",
       "    <tr>\n",
       "      <th>50%</th>\n",
       "      <td>75000.500000</td>\n",
       "      <td>0.000000</td>\n",
       "      <td>8.000000</td>\n",
       "      <td>0.000000</td>\n",
       "      <td>1.000000</td>\n",
       "      <td>0.000000</td>\n",
       "      <td>0.366508</td>\n",
       "      <td>52.000000</td>\n",
       "      <td>0.000000</td>\n",
       "      <td>0.154181</td>\n",
       "    </tr>\n",
       "    <tr>\n",
       "      <th>75%</th>\n",
       "      <td>112500.250000</td>\n",
       "      <td>0.000000</td>\n",
       "      <td>11.000000</td>\n",
       "      <td>0.000000</td>\n",
       "      <td>2.000000</td>\n",
       "      <td>0.000000</td>\n",
       "      <td>0.868254</td>\n",
       "      <td>63.000000</td>\n",
       "      <td>0.000000</td>\n",
       "      <td>0.559046</td>\n",
       "    </tr>\n",
       "    <tr>\n",
       "      <th>max</th>\n",
       "      <td>150000.000000</td>\n",
       "      <td>1.000000</td>\n",
       "      <td>58.000000</td>\n",
       "      <td>98.000000</td>\n",
       "      <td>54.000000</td>\n",
       "      <td>98.000000</td>\n",
       "      <td>329664.000000</td>\n",
       "      <td>109.000000</td>\n",
       "      <td>98.000000</td>\n",
       "      <td>50708.000000</td>\n",
       "    </tr>\n",
       "  </tbody>\n",
       "</table>\n",
       "</div>"
      ],
      "text/plain": [
       "             cust_id         target     open_loans  delinquency_90days  \\\n",
       "count  150000.000000  150000.000000  150000.000000       150000.000000   \n",
       "mean    75000.500000       0.066840       8.452760            0.265973   \n",
       "std     43301.414527       0.249746       5.145951            4.169304   \n",
       "min         1.000000       0.000000       0.000000            0.000000   \n",
       "25%     37500.750000       0.000000       5.000000            0.000000   \n",
       "50%     75000.500000       0.000000       8.000000            0.000000   \n",
       "75%    112500.250000       0.000000      11.000000            0.000000   \n",
       "max    150000.000000       1.000000      58.000000           98.000000   \n",
       "\n",
       "           mortagage  delinquency_60days            iir            age  \\\n",
       "count  150000.000000       150000.000000  150000.000000  150000.000000   \n",
       "mean        1.018240            0.240387     353.005076      52.295207   \n",
       "std         1.129771            4.155179    2037.818523      14.771866   \n",
       "min         0.000000            0.000000       0.000000       0.000000   \n",
       "25%         0.000000            0.000000       0.175074      41.000000   \n",
       "50%         1.000000            0.000000       0.366508      52.000000   \n",
       "75%         2.000000            0.000000       0.868254      63.000000   \n",
       "max        54.000000           98.000000  329664.000000     109.000000   \n",
       "\n",
       "       delinquency_30days  line_of_credit  \n",
       "count       150000.000000   150000.000000  \n",
       "mean             0.421033        6.048438  \n",
       "std              4.192781      249.755371  \n",
       "min              0.000000        0.000000  \n",
       "25%              0.000000        0.029867  \n",
       "50%              0.000000        0.154181  \n",
       "75%              0.000000        0.559046  \n",
       "max             98.000000    50708.000000  "
      ]
     },
     "execution_count": 8,
     "metadata": {},
     "output_type": "execute_result"
    }
   ],
   "source": [
    "train.describe()"
   ]
  },
  {
   "cell_type": "markdown",
   "id": "c8bc1c59",
   "metadata": {},
   "source": [
    "3924 customers have no available dependets information"
   ]
  },
  {
   "cell_type": "code",
   "execution_count": 9,
   "id": "5300aa77",
   "metadata": {},
   "outputs": [
    {
     "data": {
      "text/plain": [
       "array([0, 3, 1, 2, 4, 5, 10, 7, 6, 8, 9, 13, '0', '1', '2', '3', '6', '4',\n",
       "       '5', '7', '8', '20', '10', '9', 'Not Available'], dtype=object)"
      ]
     },
     "execution_count": 9,
     "metadata": {},
     "output_type": "execute_result"
    }
   ],
   "source": [
    "train['dependents'].unique()"
   ]
  },
  {
   "cell_type": "code",
   "execution_count": 10,
   "id": "88572143",
   "metadata": {},
   "outputs": [
    {
     "data": {
      "text/plain": [
       "0     141662\n",
       "1       5243\n",
       "2       1555\n",
       "3        667\n",
       "4        291\n",
       "98       264\n",
       "5        131\n",
       "6         80\n",
       "Name: delinquency_90days, dtype: int64"
      ]
     },
     "execution_count": 10,
     "metadata": {},
     "output_type": "execute_result"
    }
   ],
   "source": [
    "train['delinquency_90days'].value_counts().head(8)"
   ]
  },
  {
   "cell_type": "markdown",
   "id": "8979a141",
   "metadata": {},
   "source": [
    "29731 customers has no income available information"
   ]
  },
  {
   "cell_type": "code",
   "execution_count": 11,
   "id": "172833a8",
   "metadata": {},
   "outputs": [
    {
     "data": {
      "text/plain": [
       "array([0, 1, 2, ..., '1794060', '3008750', 'Not Available'], dtype=object)"
      ]
     },
     "execution_count": 11,
     "metadata": {},
     "output_type": "execute_result"
    }
   ],
   "source": [
    "train['income'].unique()"
   ]
  },
  {
   "cell_type": "markdown",
   "id": "35c9283c",
   "metadata": {},
   "source": [
    "1 customer has age zero"
   ]
  },
  {
   "cell_type": "code",
   "execution_count": 12,
   "id": "776a4617",
   "metadata": {},
   "outputs": [
    {
     "data": {
      "text/plain": [
       "count    149999.000000\n",
       "mean         52.295555\n",
       "std          14.771298\n",
       "min          21.000000\n",
       "25%          41.000000\n",
       "50%          52.000000\n",
       "75%          63.000000\n",
       "max         109.000000\n",
       "Name: age, dtype: float64"
      ]
     },
     "execution_count": 12,
     "metadata": {},
     "output_type": "execute_result"
    }
   ],
   "source": [
    "train['age'][train['age']!=0].describe()"
   ]
  },
  {
   "cell_type": "code",
   "execution_count": 13,
   "id": "797f25b0",
   "metadata": {},
   "outputs": [
    {
     "data": {
      "text/plain": [
       "0     56188\n",
       "1     52338\n",
       "2     31522\n",
       "3      6300\n",
       "4      2170\n",
       "5       689\n",
       "6       320\n",
       "7       171\n",
       "8        93\n",
       "9        78\n",
       "10       37\n",
       "11       23\n",
       "12       18\n",
       "13       15\n",
       "15        7\n",
       "14        7\n",
       "17        4\n",
       "16        4\n",
       "25        3\n",
       "18        2\n",
       "23        2\n",
       "20        2\n",
       "19        2\n",
       "54        1\n",
       "21        1\n",
       "26        1\n",
       "29        1\n",
       "32        1\n",
       "Name: mortagage, dtype: int64"
      ]
     },
     "execution_count": 13,
     "metadata": {},
     "output_type": "execute_result"
    }
   ],
   "source": [
    "train['mortagage'].value_counts()"
   ]
  },
  {
   "cell_type": "code",
   "execution_count": 14,
   "id": "10e2c8f4",
   "metadata": {},
   "outputs": [
    {
     "data": {
      "text/plain": [
       "<AxesSubplot:>"
      ]
     },
     "execution_count": 14,
     "metadata": {},
     "output_type": "execute_result"
    },
    {
     "data": {
      "image/png": "[encoded data removed]",
      "text/plain": [
       "<Figure size 432x288 with 1 Axes>"
      ]
     },
     "metadata": {
      "needs_background": "light"
     },
     "output_type": "display_data"
    }
   ],
   "source": [
    "train['open_loans'].hist()"
   ]
  },
  {
   "cell_type": "markdown",
   "id": "30bd16a1",
   "metadata": {},
   "source": [
    "iir and balance on lines of credit are on percentage (%)"
   ]
  },
  {
   "cell_type": "code",
   "execution_count": 15,
   "id": "e67003cc",
   "metadata": {},
   "outputs": [],
   "source": [
    "# train['iir'] = train['iir']/100\n",
    "# train['line_of_credit'] = train['line_of_credit']/100"
   ]
  },
  {
   "cell_type": "code",
   "execution_count": 16,
   "id": "67d24335",
   "metadata": {},
   "outputs": [
    {
     "data": {
      "text/plain": [
       "count    150000.000000\n",
       "mean          6.048438\n",
       "std         249.755371\n",
       "min           0.000000\n",
       "25%           0.029867\n",
       "50%           0.154181\n",
       "75%           0.559046\n",
       "max       50708.000000\n",
       "Name: line_of_credit, dtype: float64"
      ]
     },
     "execution_count": 16,
     "metadata": {},
     "output_type": "execute_result"
    }
   ],
   "source": [
    "train['line_of_credit'].describe()"
   ]
  },
  {
   "cell_type": "code",
   "execution_count": 17,
   "id": "5bc323ce",
   "metadata": {},
   "outputs": [],
   "source": [
    "train.loc[train['dependents']=='Not Available','dependents'] = -99\n",
    "train.loc[train['income']=='Not Available','income'] = -99\n",
    "train['income'] = train['income'].astype(int)\n",
    "\n",
    "train['dependents'] = train['dependents'].astype(int)\n"
   ]
  },
  {
   "cell_type": "code",
   "execution_count": 18,
   "id": "4b7bb9c5",
   "metadata": {},
   "outputs": [
    {
     "data": {
      "text/plain": [
       "age  target\n",
       "63   0         2548\n",
       "62   0         2351\n",
       "61   0         2265\n",
       "64   0         2119\n",
       "60   0         2091\n",
       "               ... \n",
       "94   1            1\n",
       "93   1            1\n",
       "99   1            1\n",
       "101  1            1\n",
       "107  0            1\n",
       "Length: 158, dtype: int64"
      ]
     },
     "execution_count": 18,
     "metadata": {},
     "output_type": "execute_result"
    }
   ],
   "source": [
    "train[['age','target']][train['dependents']==0].value_counts()"
   ]
  },
  {
   "cell_type": "code",
   "execution_count": 19,
   "id": "5958b296",
   "metadata": {},
   "outputs": [
    {
     "data": {
      "text/plain": [
       "<AxesSubplot:xlabel='target', ylabel='delinquency_90days'>"
      ]
     },
     "execution_count": 19,
     "metadata": {},
     "output_type": "execute_result"
    },
    {
     "data": {
      "image/png": "[encoded data removed]",
      "text/plain": [
       "<Figure size 864x720 with 8 Axes>"
      ]
     },
     "metadata": {
      "needs_background": "light"
     },
     "output_type": "display_data"
    }
   ],
   "source": [
    "fig, ax = plt.subplots(nrows=4, ncols=2, figsize=(12,10))\n",
    "sns.boxplot(data=train[train['dependents']>=0], x='target',y='dependents', ax=ax[0][0])\n",
    "sns.boxplot(data=train, x='target',y='income', ax=ax[0][1])\n",
    "sns.boxplot(data=train, x='target',y='iir', ax=ax[1][0])\n",
    "sns.boxplot(data=train, x='target',y='open_loans', ax=ax[1][1])\n",
    "sns.boxplot(data=train, x='target',y='line_of_credit', ax=ax[2][0])\n",
    "sns.boxplot(data=train, x='target',y='mortagage', ax=ax[2][1])\n",
    "sns.boxplot(data=train, x='target',y='age', ax=ax[3][0])\n",
    "sns.boxplot(data=train, x='target',y='delinquency_90days', ax=ax[3][1])"
   ]
  },
  {
   "cell_type": "markdown",
   "id": "cd581eb9",
   "metadata": {},
   "source": [
    "# correlation"
   ]
  },
  {
   "cell_type": "code",
   "execution_count": 20,
   "id": "334b1ab8",
   "metadata": {},
   "outputs": [
    {
     "data": {
      "text/plain": [
       "Index(['target', 'delinquency_30days', 'delinquency_90days',\n",
       "       'delinquency_60days', 'dependents', 'cust_id', 'line_of_credit',\n",
       "       'mortagage', 'iir', 'income', 'open_loans', 'age'],\n",
       "      dtype='object')"
      ]
     },
     "execution_count": 20,
     "metadata": {},
     "output_type": "execute_result"
    }
   ],
   "source": [
    "correlation = train.corr(method='pearson')\n",
    "columns = correlation.nlargest(20, 'target').index\n",
    "columns"
   ]
  },
  {
   "cell_type": "code",
   "execution_count": 21,
   "id": "46cf65dc",
   "metadata": {},
   "outputs": [
    {
     "data": {
      "image/png": "[encoded data removed]",
      "text/plain": [
       "<Figure size 1080x1080 with 2 Axes>"
      ]
     },
     "metadata": {
      "needs_background": "light"
     },
     "output_type": "display_data"
    }
   ],
   "source": [
    "plt.figure(figsize=(15,15)) \n",
    "correlation_map = np.corrcoef(train[columns].values.T)\n",
    "sns.set(font_scale=1.0)\n",
    "heatmap = sns.heatmap(correlation_map, cbar=True, annot=True, square=True, fmt='.2f', yticklabels=columns.values, xticklabels=columns.values)\n",
    "\n",
    "plt.show()"
   ]
  },
  {
   "cell_type": "markdown",
   "id": "61fb60ee",
   "metadata": {},
   "source": [
    "# feature engineering"
   ]
  },
  {
   "cell_type": "markdown",
   "id": "e462d683",
   "metadata": {},
   "source": [
    "# delinquency"
   ]
  },
  {
   "cell_type": "markdown",
   "id": "948096ff",
   "metadata": {},
   "source": [
    "delinquency in the past for 90 days, delinquency of 60,30 days but not in the last 2 years as binary features"
   ]
  },
  {
   "cell_type": "code",
   "execution_count": 22,
   "id": "c4e29996",
   "metadata": {},
   "outputs": [
    {
     "data": {
      "text/plain": [
       "0    141662\n",
       "1      8338\n",
       "Name: delinquency_90days, dtype: int64"
      ]
     },
     "execution_count": 22,
     "metadata": {},
     "output_type": "execute_result"
    }
   ],
   "source": [
    "train['delinquency_90days'].loc[train['delinquency_90days']>0] = 1\n",
    "train['delinquency_90days'].value_counts()"
   ]
  },
  {
   "cell_type": "code",
   "execution_count": 23,
   "id": "9f3c292a",
   "metadata": {},
   "outputs": [
    {
     "data": {
      "text/plain": [
       "0    142396\n",
       "1      7604\n",
       "Name: delinquency_60days, dtype: int64"
      ]
     },
     "execution_count": 23,
     "metadata": {},
     "output_type": "execute_result"
    }
   ],
   "source": [
    "train['delinquency_60days'].loc[train['delinquency_60days']>0] = 1\n",
    "train['delinquency_60days'].value_counts()"
   ]
  },
  {
   "cell_type": "code",
   "execution_count": 24,
   "id": "8fa7d9ac",
   "metadata": {},
   "outputs": [
    {
     "data": {
      "text/plain": [
       "0    126018\n",
       "1     23982\n",
       "Name: delinquency_30days, dtype: int64"
      ]
     },
     "execution_count": 24,
     "metadata": {},
     "output_type": "execute_result"
    }
   ],
   "source": [
    "train['delinquency_30days'].loc[train['delinquency_30days']>0] = 1\n",
    "train['delinquency_30days'].value_counts()"
   ]
  },
  {
   "cell_type": "code",
   "execution_count": 25,
   "id": "b589e182",
   "metadata": {},
   "outputs": [
    {
     "data": {
      "text/html": [
       "<div>\n",
       "<style scoped>\n",
       "    .dataframe tbody tr th:only-of-type {\n",
       "        vertical-align: middle;\n",
       "    }\n",
       "\n",
       "    .dataframe tbody tr th {\n",
       "        vertical-align: top;\n",
       "    }\n",
       "\n",
       "    .dataframe thead th {\n",
       "        text-align: right;\n",
       "    }\n",
       "</style>\n",
       "<table border=\"1\" class=\"dataframe\">\n",
       "  <thead>\n",
       "    <tr style=\"text-align: right;\">\n",
       "      <th></th>\n",
       "      <th>delinquency_90days</th>\n",
       "      <th>delinquency_60days</th>\n",
       "      <th>delinquency_30days</th>\n",
       "      <th>target</th>\n",
       "    </tr>\n",
       "  </thead>\n",
       "  <tbody>\n",
       "    <tr>\n",
       "      <th>delinquency_90days</th>\n",
       "      <td>1.000000</td>\n",
       "      <td>0.314391</td>\n",
       "      <td>0.239439</td>\n",
       "      <td>0.339577</td>\n",
       "    </tr>\n",
       "    <tr>\n",
       "      <th>delinquency_60days</th>\n",
       "      <td>0.314391</td>\n",
       "      <td>1.000000</td>\n",
       "      <td>0.263461</td>\n",
       "      <td>0.275219</td>\n",
       "    </tr>\n",
       "    <tr>\n",
       "      <th>delinquency_30days</th>\n",
       "      <td>0.239439</td>\n",
       "      <td>0.263461</td>\n",
       "      <td>1.000000</td>\n",
       "      <td>0.246334</td>\n",
       "    </tr>\n",
       "    <tr>\n",
       "      <th>target</th>\n",
       "      <td>0.339577</td>\n",
       "      <td>0.275219</td>\n",
       "      <td>0.246334</td>\n",
       "      <td>1.000000</td>\n",
       "    </tr>\n",
       "  </tbody>\n",
       "</table>\n",
       "</div>"
      ],
      "text/plain": [
       "                    delinquency_90days  delinquency_60days  \\\n",
       "delinquency_90days            1.000000            0.314391   \n",
       "delinquency_60days            0.314391            1.000000   \n",
       "delinquency_30days            0.239439            0.263461   \n",
       "target                        0.339577            0.275219   \n",
       "\n",
       "                    delinquency_30days    target  \n",
       "delinquency_90days            0.239439  0.339577  \n",
       "delinquency_60days            0.263461  0.275219  \n",
       "delinquency_30days            1.000000  0.246334  \n",
       "target                        0.246334  1.000000  "
      ]
     },
     "execution_count": 25,
     "metadata": {},
     "output_type": "execute_result"
    }
   ],
   "source": [
    "train[['delinquency_90days','delinquency_60days','delinquency_30days','target']].corr()"
   ]
  },
  {
   "cell_type": "markdown",
   "id": "443983fc",
   "metadata": {},
   "source": [
    "# age"
   ]
  },
  {
   "cell_type": "code",
   "execution_count": 26,
   "id": "4d9a257e",
   "metadata": {},
   "outputs": [
    {
     "data": {
      "text/plain": [
       "<AxesSubplot:>"
      ]
     },
     "execution_count": 26,
     "metadata": {},
     "output_type": "execute_result"
    },
    {
     "data": {
      "image/png": "[encoded data removed]",
      "text/plain": [
       "<Figure size 432x288 with 1 Axes>"
      ]
     },
     "metadata": {},
     "output_type": "display_data"
    }
   ],
   "source": [
    "train['age'].hist()"
   ]
  },
  {
   "cell_type": "code",
   "execution_count": 27,
   "id": "0014be2e",
   "metadata": {},
   "outputs": [
    {
     "data": {
      "text/plain": [
       "<AxesSubplot:>"
      ]
     },
     "execution_count": 27,
     "metadata": {},
     "output_type": "execute_result"
    },
    {
     "data": {
      "image/png": "[encoded data removed]",
      "text/plain": [
       "<Figure size 432x288 with 1 Axes>"
      ]
     },
     "metadata": {},
     "output_type": "display_data"
    }
   ],
   "source": [
    "train.loc[train['age']==0,'age'] = train['age'].mode()[0]\n",
    "train['age'].hist()"
   ]
  },
  {
   "cell_type": "markdown",
   "id": "8a6c0f50",
   "metadata": {},
   "source": [
    "# Mortagage and real estate loans as binary"
   ]
  },
  {
   "cell_type": "code",
   "execution_count": 28,
   "id": "10ba1cda",
   "metadata": {},
   "outputs": [
    {
     "data": {
      "text/plain": [
       "count    150000.000000\n",
       "mean          1.018240\n",
       "std           1.129771\n",
       "min           0.000000\n",
       "25%           0.000000\n",
       "50%           1.000000\n",
       "75%           2.000000\n",
       "max          54.000000\n",
       "Name: mortagage, dtype: float64"
      ]
     },
     "execution_count": 28,
     "metadata": {},
     "output_type": "execute_result"
    }
   ],
   "source": [
    "train['mortagage'].describe()"
   ]
  },
  {
   "cell_type": "code",
   "execution_count": 29,
   "id": "81741553",
   "metadata": {},
   "outputs": [
    {
     "data": {
      "text/plain": [
       "1.0    93812\n",
       "0.0    56188\n",
       "Name: mortagage1, dtype: int64"
      ]
     },
     "execution_count": 29,
     "metadata": {},
     "output_type": "execute_result"
    }
   ],
   "source": [
    "train.loc[train['mortagage']>=1,'mortagage1'] = 1\n",
    "train['mortagage1'].fillna(0,inplace=True)\n",
    "train['mortagage1'].value_counts()"
   ]
  },
  {
   "cell_type": "markdown",
   "id": "fba55d1c",
   "metadata": {},
   "source": [
    "# open loans"
   ]
  },
  {
   "cell_type": "code",
   "execution_count": 30,
   "id": "e4812e4b",
   "metadata": {},
   "outputs": [
    {
     "data": {
      "text/plain": [
       "count    150000.000000\n",
       "mean          8.452760\n",
       "std           5.145951\n",
       "min           0.000000\n",
       "25%           5.000000\n",
       "50%           8.000000\n",
       "75%          11.000000\n",
       "max          58.000000\n",
       "Name: open_loans, dtype: float64"
      ]
     },
     "execution_count": 30,
     "metadata": {},
     "output_type": "execute_result"
    }
   ],
   "source": [
    "train['open_loans'].describe()"
   ]
  },
  {
   "cell_type": "code",
   "execution_count": 31,
   "id": "b80fdab0",
   "metadata": {},
   "outputs": [
    {
     "data": {
      "text/plain": [
       "low          46590\n",
       "medium       39421\n",
       "very_high    34689\n",
       "high         29300\n",
       "Name: open_loans_credit, dtype: int64"
      ]
     },
     "execution_count": 31,
     "metadata": {},
     "output_type": "execute_result"
    }
   ],
   "source": [
    "bins = [-1,5,8,11,60]\n",
    "labels = ['low','medium','high','very_high']\n",
    "train['open_loans_credit'] = pd.cut(train['open_loans'],bins=bins,labels=labels)\n",
    "train['open_loans_credit'].value_counts()"
   ]
  },
  {
   "cell_type": "markdown",
   "id": "d2e7cac3",
   "metadata": {},
   "source": [
    "# iir"
   ]
  },
  {
   "cell_type": "code",
   "execution_count": 32,
   "id": "569184fd",
   "metadata": {},
   "outputs": [
    {
     "data": {
      "text/html": [
       "<div>\n",
       "<style scoped>\n",
       "    .dataframe tbody tr th:only-of-type {\n",
       "        vertical-align: middle;\n",
       "    }\n",
       "\n",
       "    .dataframe tbody tr th {\n",
       "        vertical-align: top;\n",
       "    }\n",
       "\n",
       "    .dataframe thead th {\n",
       "        text-align: right;\n",
       "    }\n",
       "</style>\n",
       "<table border=\"1\" class=\"dataframe\">\n",
       "  <thead>\n",
       "    <tr style=\"text-align: right;\">\n",
       "      <th></th>\n",
       "      <th>loan_per_dti</th>\n",
       "      <th>iir</th>\n",
       "      <th>mortagage</th>\n",
       "      <th>target</th>\n",
       "    </tr>\n",
       "  </thead>\n",
       "  <tbody>\n",
       "    <tr>\n",
       "      <th>loan_per_dti</th>\n",
       "      <td>1.000000</td>\n",
       "      <td>0.844309</td>\n",
       "      <td>-0.038758</td>\n",
       "      <td>-0.011987</td>\n",
       "    </tr>\n",
       "    <tr>\n",
       "      <th>iir</th>\n",
       "      <td>0.844309</td>\n",
       "      <td>1.000000</td>\n",
       "      <td>0.120046</td>\n",
       "      <td>-0.007602</td>\n",
       "    </tr>\n",
       "    <tr>\n",
       "      <th>mortagage</th>\n",
       "      <td>-0.038758</td>\n",
       "      <td>0.120046</td>\n",
       "      <td>1.000000</td>\n",
       "      <td>-0.007038</td>\n",
       "    </tr>\n",
       "    <tr>\n",
       "      <th>target</th>\n",
       "      <td>-0.011987</td>\n",
       "      <td>-0.007602</td>\n",
       "      <td>-0.007038</td>\n",
       "      <td>1.000000</td>\n",
       "    </tr>\n",
       "  </tbody>\n",
       "</table>\n",
       "</div>"
      ],
      "text/plain": [
       "              loan_per_dti       iir  mortagage    target\n",
       "loan_per_dti      1.000000  0.844309  -0.038758 -0.011987\n",
       "iir               0.844309  1.000000   0.120046 -0.007602\n",
       "mortagage        -0.038758  0.120046   1.000000 -0.007038\n",
       "target           -0.011987 -0.007602  -0.007038  1.000000"
      ]
     },
     "execution_count": 32,
     "metadata": {},
     "output_type": "execute_result"
    }
   ],
   "source": [
    "train['loan_per_dti'] = train['iir']/train['mortagage']\n",
    "train[['loan_per_dti','iir','mortagage','target']].corr()"
   ]
  },
  {
   "cell_type": "code",
   "execution_count": 33,
   "id": "7d837541",
   "metadata": {},
   "outputs": [],
   "source": [
    "train['loan_per_dti'][train['loan_per_dti']==np.inf] = 0\n",
    "train.loc[train['loan_per_dti'].isnull(),'loan_per_dti'] = 0"
   ]
  },
  {
   "cell_type": "markdown",
   "id": "b1229c91",
   "metadata": {},
   "source": [
    "# dependents"
   ]
  },
  {
   "cell_type": "code",
   "execution_count": 34,
   "id": "425165e7",
   "metadata": {},
   "outputs": [
    {
     "data": {
      "text/plain": [
       "0     90826\n",
       "1     26316\n",
       "2     19522\n",
       "3      9483\n",
       "4      2862\n",
       "5       746\n",
       "6       158\n",
       "7        51\n",
       "8        24\n",
       "10        5\n",
       "9         5\n",
       "13        1\n",
       "20        1\n",
       "Name: dependents, dtype: int64"
      ]
     },
     "execution_count": 34,
     "metadata": {},
     "output_type": "execute_result"
    }
   ],
   "source": [
    "train['dependents'][train['dependents']<0] = 0\n",
    "train['dependents'].value_counts()"
   ]
  },
  {
   "cell_type": "markdown",
   "id": "2895cfa9",
   "metadata": {},
   "source": [
    "# income as categorical variable"
   ]
  },
  {
   "cell_type": "markdown",
   "id": "2769945a",
   "metadata": {},
   "source": [
    "replacing null values with median income"
   ]
  },
  {
   "cell_type": "code",
   "execution_count": 36,
   "id": "d79522a4",
   "metadata": {},
   "outputs": [
    {
     "data": {
      "text/plain": [
       "5437.0"
      ]
     },
     "execution_count": 36,
     "metadata": {},
     "output_type": "execute_result"
    }
   ],
   "source": [
    "train['income'][train['income']>0].median()"
   ]
  },
  {
   "cell_type": "code",
   "execution_count": 37,
   "id": "7cec46df",
   "metadata": {},
   "outputs": [
    {
     "data": {
      "text/plain": [
       "count    1.500000e+05\n",
       "mean     6.425789e+03\n",
       "std      1.288982e+04\n",
       "min      0.000000e+00\n",
       "25%      3.903000e+03\n",
       "50%      5.437000e+03\n",
       "75%      7.400000e+03\n",
       "max      3.008750e+06\n",
       "Name: income, dtype: float64"
      ]
     },
     "execution_count": 37,
     "metadata": {},
     "output_type": "execute_result"
    }
   ],
   "source": [
    "train.loc[train['income']<0,'income'] = 5437\n",
    "train['income'].describe()"
   ]
  },
  {
   "cell_type": "code",
   "execution_count": 38,
   "id": "f1ce95cb",
   "metadata": {},
   "outputs": [
    {
     "data": {
      "text/plain": [
       "medium       53181\n",
       "low          37503\n",
       "very_high    37329\n",
       "high         21987\n",
       "Name: income1, dtype: int64"
      ]
     },
     "execution_count": 38,
     "metadata": {},
     "output_type": "execute_result"
    }
   ],
   "source": [
    "train['income'] = train['income'].astype(int)\n",
    "train['income'].dtype\n",
    "bins = [-1,3903,5437,7400,np.inf]\n",
    "labels = ['low','medium','high','very_high']\n",
    "train['income1'] = pd.cut(train['income'],bins=bins,labels=labels)\n",
    "train['income1'].value_counts()"
   ]
  },
  {
   "cell_type": "code",
   "execution_count": 42,
   "id": "7590d076",
   "metadata": {},
   "outputs": [
    {
     "data": {
      "text/plain": [
       "Index(['cust_id', 'target', 'open_loans', 'delinquency_90days', 'mortagage',\n",
       "       'delinquency_60days', 'income', 'dependents', 'iir', 'age',\n",
       "       'delinquency_30days', 'line_of_credit', 'mortagage1',\n",
       "       'open_loans_credit', 'loan_per_dti', 'income1'],\n",
       "      dtype='object')"
      ]
     },
     "execution_count": 42,
     "metadata": {},
     "output_type": "execute_result"
    }
   ],
   "source": [
    "train.columns"
   ]
  },
  {
   "cell_type": "code",
   "execution_count": 44,
   "id": "09a35893",
   "metadata": {},
   "outputs": [],
   "source": [
    "def encode_and_bind(original_dataframe,features_to_encode):\n",
    "    dummies = pd.get_dummies(original_dataframe[[features_to_encode]])\n",
    "    res = pd.concat([original_dataframe,dummies],axis=1)\n",
    "    return res\n",
    "train = encode_and_bind(train,'income1')\n",
    "train = encode_and_bind(train,'open_loans_credit')"
   ]
  },
  {
   "cell_type": "code",
   "execution_count": 46,
   "id": "0bf8708f",
   "metadata": {},
   "outputs": [
    {
     "data": {
      "text/plain": [
       "Index(['cust_id', 'target', 'open_loans', 'delinquency_90days', 'mortagage',\n",
       "       'delinquency_60days', 'income', 'dependents', 'iir', 'age',\n",
       "       'delinquency_30days', 'line_of_credit', 'mortagage1',\n",
       "       'open_loans_credit', 'loan_per_dti', 'income1', 'income1_low',\n",
       "       'income1_medium', 'income1_high', 'income1_very_high',\n",
       "       'open_loans_credit_low', 'open_loans_credit_medium',\n",
       "       'open_loans_credit_high', 'open_loans_credit_very_high'],\n",
       "      dtype='object')"
      ]
     },
     "execution_count": 46,
     "metadata": {},
     "output_type": "execute_result"
    }
   ],
   "source": [
    "train.columns"
   ]
  },
  {
   "cell_type": "code",
   "execution_count": 47,
   "id": "892705e6",
   "metadata": {},
   "outputs": [],
   "source": [
    "drop_cols = ['iir','income','open_loans','mortagage','income1','open_loans_credit']\n",
    "train.drop(drop_cols,axis=1,inplace=True)"
   ]
  },
  {
   "cell_type": "code",
   "execution_count": 48,
   "id": "630dc56a",
   "metadata": {},
   "outputs": [
    {
     "data": {
      "text/plain": [
       "Index(['cust_id', 'target', 'delinquency_90days', 'delinquency_60days',\n",
       "       'dependents', 'age', 'delinquency_30days', 'line_of_credit',\n",
       "       'mortagage1', 'loan_per_dti', 'income1_low', 'income1_medium',\n",
       "       'income1_high', 'income1_very_high', 'open_loans_credit_low',\n",
       "       'open_loans_credit_medium', 'open_loans_credit_high',\n",
       "       'open_loans_credit_very_high'],\n",
       "      dtype='object')"
      ]
     },
     "execution_count": 48,
     "metadata": {},
     "output_type": "execute_result"
    }
   ],
   "source": [
    "train.columns"
   ]
  },
  {
   "cell_type": "code",
   "execution_count": 55,
   "id": "bedff51c",
   "metadata": {},
   "outputs": [
    {
     "data": {
      "text/plain": [
       "cust_id                        0\n",
       "target                         0\n",
       "delinquency_90days             0\n",
       "delinquency_60days             0\n",
       "dependents                     0\n",
       "age                            0\n",
       "delinquency_30days             0\n",
       "line_of_credit                 0\n",
       "mortagage1                     0\n",
       "loan_per_dti                   0\n",
       "income1_low                    0\n",
       "income1_medium                 0\n",
       "income1_high                   0\n",
       "income1_very_high              0\n",
       "open_loans_credit_low          0\n",
       "open_loans_credit_medium       0\n",
       "open_loans_credit_high         0\n",
       "open_loans_credit_very_high    0\n",
       "dtype: int64"
      ]
     },
     "execution_count": 55,
     "metadata": {},
     "output_type": "execute_result"
    }
   ],
   "source": [
    "train.isnull().sum()"
   ]
  },
  {
   "cell_type": "code",
   "execution_count": 68,
   "id": "6d268c9c",
   "metadata": {},
   "outputs": [],
   "source": [
    "X = train.drop(['cust_id','target'],axis=1)\n",
    "y = train[['target']]\n",
    "\n",
    "X_train, X_test, y_train, y_test= train_test_split(X, y, test_size= 0.25, random_state=123,\n",
    "                                                   stratify=y)  "
   ]
  },
  {
   "cell_type": "code",
   "execution_count": 69,
   "id": "2ef6706f",
   "metadata": {},
   "outputs": [
    {
     "data": {
      "text/html": [
       "<div>\n",
       "<style scoped>\n",
       "    .dataframe tbody tr th:only-of-type {\n",
       "        vertical-align: middle;\n",
       "    }\n",
       "\n",
       "    .dataframe tbody tr th {\n",
       "        vertical-align: top;\n",
       "    }\n",
       "\n",
       "    .dataframe thead th {\n",
       "        text-align: right;\n",
       "    }\n",
       "</style>\n",
       "<table border=\"1\" class=\"dataframe\">\n",
       "  <thead>\n",
       "    <tr style=\"text-align: right;\">\n",
       "      <th></th>\n",
       "      <th>delinquency_90days</th>\n",
       "      <th>delinquency_60days</th>\n",
       "      <th>dependents</th>\n",
       "      <th>age</th>\n",
       "      <th>delinquency_30days</th>\n",
       "      <th>line_of_credit</th>\n",
       "      <th>mortagage1</th>\n",
       "      <th>loan_per_dti</th>\n",
       "      <th>income1_low</th>\n",
       "      <th>income1_medium</th>\n",
       "      <th>income1_high</th>\n",
       "      <th>income1_very_high</th>\n",
       "      <th>open_loans_credit_low</th>\n",
       "      <th>open_loans_credit_medium</th>\n",
       "      <th>open_loans_credit_high</th>\n",
       "      <th>open_loans_credit_very_high</th>\n",
       "    </tr>\n",
       "  </thead>\n",
       "  <tbody>\n",
       "    <tr>\n",
       "      <th>57409</th>\n",
       "      <td>0</td>\n",
       "      <td>0</td>\n",
       "      <td>0</td>\n",
       "      <td>73</td>\n",
       "      <td>0</td>\n",
       "      <td>0.013647</td>\n",
       "      <td>0.0</td>\n",
       "      <td>0.000000</td>\n",
       "      <td>0</td>\n",
       "      <td>1</td>\n",
       "      <td>0</td>\n",
       "      <td>0</td>\n",
       "      <td>0</td>\n",
       "      <td>0</td>\n",
       "      <td>0</td>\n",
       "      <td>1</td>\n",
       "    </tr>\n",
       "    <tr>\n",
       "      <th>40748</th>\n",
       "      <td>0</td>\n",
       "      <td>0</td>\n",
       "      <td>2</td>\n",
       "      <td>33</td>\n",
       "      <td>0</td>\n",
       "      <td>0.775746</td>\n",
       "      <td>1.0</td>\n",
       "      <td>0.372191</td>\n",
       "      <td>0</td>\n",
       "      <td>1</td>\n",
       "      <td>0</td>\n",
       "      <td>0</td>\n",
       "      <td>0</td>\n",
       "      <td>0</td>\n",
       "      <td>1</td>\n",
       "      <td>0</td>\n",
       "    </tr>\n",
       "    <tr>\n",
       "      <th>46674</th>\n",
       "      <td>0</td>\n",
       "      <td>0</td>\n",
       "      <td>0</td>\n",
       "      <td>53</td>\n",
       "      <td>0</td>\n",
       "      <td>0.861428</td>\n",
       "      <td>1.0</td>\n",
       "      <td>0.418463</td>\n",
       "      <td>0</td>\n",
       "      <td>1</td>\n",
       "      <td>0</td>\n",
       "      <td>0</td>\n",
       "      <td>0</td>\n",
       "      <td>0</td>\n",
       "      <td>0</td>\n",
       "      <td>1</td>\n",
       "    </tr>\n",
       "    <tr>\n",
       "      <th>111885</th>\n",
       "      <td>0</td>\n",
       "      <td>0</td>\n",
       "      <td>4</td>\n",
       "      <td>52</td>\n",
       "      <td>0</td>\n",
       "      <td>0.118194</td>\n",
       "      <td>1.0</td>\n",
       "      <td>0.181448</td>\n",
       "      <td>0</td>\n",
       "      <td>0</td>\n",
       "      <td>0</td>\n",
       "      <td>1</td>\n",
       "      <td>1</td>\n",
       "      <td>0</td>\n",
       "      <td>0</td>\n",
       "      <td>0</td>\n",
       "    </tr>\n",
       "    <tr>\n",
       "      <th>6431</th>\n",
       "      <td>0</td>\n",
       "      <td>0</td>\n",
       "      <td>1</td>\n",
       "      <td>46</td>\n",
       "      <td>0</td>\n",
       "      <td>0.996109</td>\n",
       "      <td>0.0</td>\n",
       "      <td>0.000000</td>\n",
       "      <td>1</td>\n",
       "      <td>0</td>\n",
       "      <td>0</td>\n",
       "      <td>0</td>\n",
       "      <td>1</td>\n",
       "      <td>0</td>\n",
       "      <td>0</td>\n",
       "      <td>0</td>\n",
       "    </tr>\n",
       "  </tbody>\n",
       "</table>\n",
       "</div>"
      ],
      "text/plain": [
       "        delinquency_90days  delinquency_60days  dependents  age  \\\n",
       "57409                    0                   0           0   73   \n",
       "40748                    0                   0           2   33   \n",
       "46674                    0                   0           0   53   \n",
       "111885                   0                   0           4   52   \n",
       "6431                     0                   0           1   46   \n",
       "\n",
       "        delinquency_30days  line_of_credit  mortagage1  loan_per_dti  \\\n",
       "57409                    0        0.013647         0.0      0.000000   \n",
       "40748                    0        0.775746         1.0      0.372191   \n",
       "46674                    0        0.861428         1.0      0.418463   \n",
       "111885                   0        0.118194         1.0      0.181448   \n",
       "6431                     0        0.996109         0.0      0.000000   \n",
       "\n",
       "        income1_low  income1_medium  income1_high  income1_very_high  \\\n",
       "57409             0               1             0                  0   \n",
       "40748             0               1             0                  0   \n",
       "46674             0               1             0                  0   \n",
       "111885            0               0             0                  1   \n",
       "6431              1               0             0                  0   \n",
       "\n",
       "        open_loans_credit_low  open_loans_credit_medium  \\\n",
       "57409                       0                         0   \n",
       "40748                       0                         0   \n",
       "46674                       0                         0   \n",
       "111885                      1                         0   \n",
       "6431                        1                         0   \n",
       "\n",
       "        open_loans_credit_high  open_loans_credit_very_high  \n",
       "57409                        0                            1  \n",
       "40748                        1                            0  \n",
       "46674                        0                            1  \n",
       "111885                       0                            0  \n",
       "6431                         0                            0  "
      ]
     },
     "execution_count": 69,
     "metadata": {},
     "output_type": "execute_result"
    }
   ],
   "source": [
    "X_train.head()"
   ]
  },
  {
   "cell_type": "code",
   "execution_count": 57,
   "id": "d1764b9f",
   "metadata": {},
   "outputs": [
    {
     "name": "stdout",
     "output_type": "stream",
     "text": [
      "LR: 0.934756 (0.001312)\n",
      "CART: 0.897493 (0.001975)\n",
      "NB: 0.903076 (0.003550)\n",
      "GBM: 0.931396 (0.001959)\n",
      "[20:12:52] WARNING: ../src/learner.cc:1115: Starting in XGBoost 1.3.0, the default evaluation metric used with the objective 'binary:logistic' was changed from 'error' to 'logloss'. Explicitly set eval_metric if you'd like to restore the old behavior.\n",
      "[20:12:56] WARNING: ../src/learner.cc:1115: Starting in XGBoost 1.3.0, the default evaluation metric used with the objective 'binary:logistic' was changed from 'error' to 'logloss'. Explicitly set eval_metric if you'd like to restore the old behavior.\n",
      "[20:12:59] WARNING: ../src/learner.cc:1115: Starting in XGBoost 1.3.0, the default evaluation metric used with the objective 'binary:logistic' was changed from 'error' to 'logloss'. Explicitly set eval_metric if you'd like to restore the old behavior.\n",
      "[20:13:03] WARNING: ../src/learner.cc:1115: Starting in XGBoost 1.3.0, the default evaluation metric used with the objective 'binary:logistic' was changed from 'error' to 'logloss'. Explicitly set eval_metric if you'd like to restore the old behavior.\n",
      "[20:13:07] WARNING: ../src/learner.cc:1115: Starting in XGBoost 1.3.0, the default evaluation metric used with the objective 'binary:logistic' was changed from 'error' to 'logloss'. Explicitly set eval_metric if you'd like to restore the old behavior.\n",
      "[20:13:10] WARNING: ../src/learner.cc:1115: Starting in XGBoost 1.3.0, the default evaluation metric used with the objective 'binary:logistic' was changed from 'error' to 'logloss'. Explicitly set eval_metric if you'd like to restore the old behavior.\n",
      "XGB: 0.935093 (0.001386)\n"
     ]
    },
    {
     "data": {
      "image/png": "[encoded data removed]",
      "text/plain": [
       "<Figure size 432x288 with 1 Axes>"
      ]
     },
     "metadata": {},
     "output_type": "display_data"
    }
   ],
   "source": [
    "import warnings\n",
    "warnings.filterwarnings('ignore')\n",
    "from sklearn.metrics import fbeta_score,make_scorer\n",
    "from sklearn.discriminant_analysis import LinearDiscriminantAnalysis\n",
    "from sklearn.naive_bayes import GaussianNB\n",
    "from sklearn import model_selection\n",
    "# prepare configuration for cross validation test harness\n",
    "seed = 7\n",
    "# prepare models\n",
    "models = []\n",
    "models.append(('LR', LogisticRegression()))\n",
    "models.append(('CART', DecisionTreeClassifier()))\n",
    "models.append(('NB', GaussianNB()))\n",
    "models.append(('GBM',RandomForestClassifier()))\n",
    "models.append(('XGB',XGBClassifier()))\n",
    "# evaluate each model in turn\n",
    "results = []\n",
    "names = []\n",
    "ftwo_scorer = make_scorer(fbeta_score,beta=0.5)\n",
    "score='f1_macro'\n",
    "for name, model in models:\n",
    "    kfold = model_selection.KFold(n_splits=6, random_state=seed,shuffle=True)\n",
    "    cv_results = model_selection.cross_val_score(model, X_train, y_train, cv=kfold, scoring='f1_micro')\n",
    "    results.append(cv_results)\n",
    "    names.append(name)\n",
    "    msg = \"%s: %f (%f)\" % (name, cv_results.mean(), cv_results.std())\n",
    "    print(msg)\n",
    "# boxplot algorithm comparison\n",
    "fig = plt.figure()\n",
    "fig.suptitle('Algorithm Comparison')\n",
    "ax = fig.add_subplot(111)\n",
    "plt.boxplot(results)\n",
    "ax.set_xticklabels(names)\n",
    "plt.show()"
   ]
  },
  {
   "cell_type": "markdown",
   "id": "8dd59908",
   "metadata": {},
   "source": [
    "# Xgboost hyper parameter tuning"
   ]
  },
  {
   "cell_type": "code",
   "execution_count": 70,
   "id": "f94ba048",
   "metadata": {},
   "outputs": [
    {
     "name": "stdout",
     "output_type": "stream",
     "text": [
      "[19:21:35] WARNING: ../src/learner.cc:1115: Starting in XGBoost 1.3.0, the default evaluation metric used with the objective 'binary:logistic' was changed from 'error' to 'logloss'. Explicitly set eval_metric if you'd like to restore the old behavior.\n",
      "XGBClassifier(base_score=0.5, booster='gbtree', colsample_bylevel=1,\n",
      "              colsample_bynode=1, colsample_bytree=1, enable_categorical=False,\n",
      "              gamma=0, gpu_id=-1, importance_type=None,\n",
      "              interaction_constraints='', learning_rate=0.300000012,\n",
      "              max_delta_step=0, max_depth=5, min_child_weight=1, missing=nan,\n",
      "              monotone_constraints='()', n_estimators=1500, n_jobs=8,\n",
      "              num_parallel_tree=1, predictor='auto', random_state=0,\n",
      "              reg_alpha=0, reg_lambda=1, scale_pos_weight=10, subsample=1,\n",
      "              tree_method='exact', validate_parameters=1, verbosity=None)\n",
      "Train performance\n",
      "-------------------------------------------------------\n",
      "              precision    recall  f1-score   support\n",
      "\n",
      "           0       1.00      0.94      0.97    104980\n",
      "           1       0.56      0.98      0.71      7520\n",
      "\n",
      "    accuracy                           0.95    112500\n",
      "   macro avg       0.78      0.96      0.84    112500\n",
      "weighted avg       0.97      0.95      0.95    112500\n",
      "\n",
      "Test performance\n",
      "-------------------------------------------------------\n",
      "              precision    recall  f1-score   support\n",
      "\n",
      "           0       0.96      0.92      0.94     34994\n",
      "           1       0.30      0.48      0.37      2506\n",
      "\n",
      "    accuracy                           0.89     37500\n",
      "   macro avg       0.63      0.70      0.65     37500\n",
      "weighted avg       0.92      0.89      0.90     37500\n",
      "\n",
      "Roc_auc score\n",
      "-------------------------------------------------------\n",
      "0.7012693112001278\n",
      "\n",
      "Confusion matrix\n",
      "-------------------------------------------------------\n",
      "[[32142  2852]\n",
      " [ 1293  1213]]\n"
     ]
    }
   ],
   "source": [
    "#XGBOOST\n",
    "xgb = XGBClassifier(max_depth=5,n_estimators=1500,scale_pos_weight=10)\n",
    "xgb.fit(X_train, y_train)\n",
    "y_train_hat = xgb.predict(X_train)\n",
    "y_test_hat = xgb.predict(X_test)\n",
    "\n",
    "print(xgb)\n",
    "print('Train performance')\n",
    "print('-------------------------------------------------------')\n",
    "print(classification_report(y_train, y_train_hat))\n",
    "\n",
    "print('Test performance')\n",
    "print('-------------------------------------------------------')\n",
    "print(classification_report(y_test, y_test_hat))\n",
    "\n",
    "print('Roc_auc score')\n",
    "print('-------------------------------------------------------')\n",
    "print(roc_auc_score(y_test, y_test_hat))\n",
    "print('')\n",
    "\n",
    "print('Confusion matrix')\n",
    "print('-------------------------------------------------------')\n",
    "print(confusion_matrix(y_test, y_test_hat))"
   ]
  },
  {
   "cell_type": "code",
   "execution_count": 71,
   "id": "c841a549",
   "metadata": {},
   "outputs": [
    {
     "data": {
      "text/plain": [
       "0    139974\n",
       "1     10026\n",
       "Name: target, dtype: int64"
      ]
     },
     "execution_count": 71,
     "metadata": {},
     "output_type": "execute_result"
    }
   ],
   "source": [
    "train['target'].value_counts()"
   ]
  },
  {
   "cell_type": "code",
   "execution_count": 72,
   "id": "9cfcb0db",
   "metadata": {},
   "outputs": [
    {
     "data": {
      "text/plain": [
       "13.961101137043686"
      ]
     },
     "execution_count": 72,
     "metadata": {},
     "output_type": "execute_result"
    }
   ],
   "source": [
    "139974/10026"
   ]
  },
  {
   "cell_type": "code",
   "execution_count": 73,
   "id": "56dace4f",
   "metadata": {},
   "outputs": [
    {
     "data": {
      "image/png": "[encoded data removed]",
      "text/plain": [
       "<Figure size 432x288 with 1 Axes>"
      ]
     },
     "metadata": {},
     "output_type": "display_data"
    }
   ],
   "source": [
    "#gain curve\n",
    "import scikitplot as skplt\n",
    "predict_prob = xgb.predict_proba(X_test)\n",
    "skplt.metrics.plot_cumulative_gain(y_test,predict_prob)\n",
    "plt.show()"
   ]
  },
  {
   "cell_type": "code",
   "execution_count": 76,
   "id": "8a5631ea",
   "metadata": {},
   "outputs": [
    {
     "name": "stderr",
     "output_type": "stream",
     "text": [
      "/opt/anaconda3/lib/python3.9/site-packages/xgboost/sklearn.py:1224: UserWarning: The use of label encoder in XGBClassifier is deprecated and will be removed in a future release. To remove this warning, do the following: 1) Pass option use_label_encoder=False when constructing XGBClassifier object; and 2) Encode your labels (y) as integers starting with 0, i.e. 0, 1, 2, ..., [num_class - 1].\n",
      "  warnings.warn(label_encoder_deprecation_msg, UserWarning)\n",
      "/Users/satyasriallaka/.local/lib/python3.9/site-packages/sklearn/utils/validation.py:63: DataConversionWarning: A column-vector y was passed when a 1d array was expected. Please change the shape of y to (n_samples, ), for example using ravel().\n",
      "  return f(*args, **kwargs)\n",
      "/opt/anaconda3/lib/python3.9/site-packages/xgboost/sklearn.py:1224: UserWarning: The use of label encoder in XGBClassifier is deprecated and will be removed in a future release. To remove this warning, do the following: 1) Pass option use_label_encoder=False when constructing XGBClassifier object; and 2) Encode your labels (y) as integers starting with 0, i.e. 0, 1, 2, ..., [num_class - 1].\n",
      "  warnings.warn(label_encoder_deprecation_msg, UserWarning)\n",
      "/Users/satyasriallaka/.local/lib/python3.9/site-packages/sklearn/utils/validation.py:63: DataConversionWarning: A column-vector y was passed when a 1d array was expected. Please change the shape of y to (n_samples, ), for example using ravel().\n",
      "  return f(*args, **kwargs)\n",
      "/opt/anaconda3/lib/python3.9/site-packages/xgboost/sklearn.py:1224: UserWarning: The use of label encoder in XGBClassifier is deprecated and will be removed in a future release. To remove this warning, do the following: 1) Pass option use_label_encoder=False when constructing XGBClassifier object; and 2) Encode your labels (y) as integers starting with 0, i.e. 0, 1, 2, ..., [num_class - 1].\n",
      "  warnings.warn(label_encoder_deprecation_msg, UserWarning)\n",
      "/Users/satyasriallaka/.local/lib/python3.9/site-packages/sklearn/utils/validation.py:63: DataConversionWarning: A column-vector y was passed when a 1d array was expected. Please change the shape of y to (n_samples, ), for example using ravel().\n",
      "  return f(*args, **kwargs)\n",
      "/opt/anaconda3/lib/python3.9/site-packages/xgboost/sklearn.py:1224: UserWarning: The use of label encoder in XGBClassifier is deprecated and will be removed in a future release. To remove this warning, do the following: 1) Pass option use_label_encoder=False when constructing XGBClassifier object; and 2) Encode your labels (y) as integers starting with 0, i.e. 0, 1, 2, ..., [num_class - 1].\n",
      "  warnings.warn(label_encoder_deprecation_msg, UserWarning)\n",
      "/Users/satyasriallaka/.local/lib/python3.9/site-packages/sklearn/utils/validation.py:63: DataConversionWarning: A column-vector y was passed when a 1d array was expected. Please change the shape of y to (n_samples, ), for example using ravel().\n",
      "  return f(*args, **kwargs)\n",
      "/opt/anaconda3/lib/python3.9/site-packages/xgboost/sklearn.py:1224: UserWarning: The use of label encoder in XGBClassifier is deprecated and will be removed in a future release. To remove this warning, do the following: 1) Pass option use_label_encoder=False when constructing XGBClassifier object; and 2) Encode your labels (y) as integers starting with 0, i.e. 0, 1, 2, ..., [num_class - 1].\n",
      "  warnings.warn(label_encoder_deprecation_msg, UserWarning)\n",
      "/Users/satyasriallaka/.local/lib/python3.9/site-packages/sklearn/utils/validation.py:63: DataConversionWarning: A column-vector y was passed when a 1d array was expected. Please change the shape of y to (n_samples, ), for example using ravel().\n",
      "  return f(*args, **kwargs)\n",
      "/opt/anaconda3/lib/python3.9/site-packages/xgboost/sklearn.py:1224: UserWarning: The use of label encoder in XGBClassifier is deprecated and will be removed in a future release. To remove this warning, do the following: 1) Pass option use_label_encoder=False when constructing XGBClassifier object; and 2) Encode your labels (y) as integers starting with 0, i.e. 0, 1, 2, ..., [num_class - 1].\n",
      "  warnings.warn(label_encoder_deprecation_msg, UserWarning)\n",
      "/Users/satyasriallaka/.local/lib/python3.9/site-packages/sklearn/utils/validation.py:63: DataConversionWarning: A column-vector y was passed when a 1d array was expected. Please change the shape of y to (n_samples, ), for example using ravel().\n",
      "  return f(*args, **kwargs)\n",
      "/opt/anaconda3/lib/python3.9/site-packages/xgboost/sklearn.py:1224: UserWarning: The use of label encoder in XGBClassifier is deprecated and will be removed in a future release. To remove this warning, do the following: 1) Pass option use_label_encoder=False when constructing XGBClassifier object; and 2) Encode your labels (y) as integers starting with 0, i.e. 0, 1, 2, ..., [num_class - 1].\n",
      "  warnings.warn(label_encoder_deprecation_msg, UserWarning)\n",
      "/Users/satyasriallaka/.local/lib/python3.9/site-packages/sklearn/utils/validation.py:63: DataConversionWarning: A column-vector y was passed when a 1d array was expected. Please change the shape of y to (n_samples, ), for example using ravel().\n",
      "  return f(*args, **kwargs)\n",
      "/opt/anaconda3/lib/python3.9/site-packages/xgboost/sklearn.py:1224: UserWarning: The use of label encoder in XGBClassifier is deprecated and will be removed in a future release. To remove this warning, do the following: 1) Pass option use_label_encoder=False when constructing XGBClassifier object; and 2) Encode your labels (y) as integers starting with 0, i.e. 0, 1, 2, ..., [num_class - 1].\n",
      "  warnings.warn(label_encoder_deprecation_msg, UserWarning)\n",
      "/Users/satyasriallaka/.local/lib/python3.9/site-packages/sklearn/utils/validation.py:63: DataConversionWarning: A column-vector y was passed when a 1d array was expected. Please change the shape of y to (n_samples, ), for example using ravel().\n",
      "  return f(*args, **kwargs)\n",
      "/Users/satyasriallaka/.local/lib/python3.9/site-packages/sklearn/model_selection/_validation.py:615: FitFailedWarning: Estimator fit failed. The score on this train-test partition for these parameters will be set to nan. Details: \n",
      "Traceback (most recent call last):\n",
      "  File \"/Users/satyasriallaka/.local/lib/python3.9/site-packages/sklearn/model_selection/_validation.py\", line 598, in _fit_and_score\n",
      "    estimator.fit(X_train, y_train, **fit_params)\n",
      "  File \"/opt/anaconda3/lib/python3.9/site-packages/xgboost/core.py\", line 506, in inner_f\n",
      "    return f(**kwargs)\n",
      "  File \"/opt/anaconda3/lib/python3.9/site-packages/xgboost/sklearn.py\", line 1250, in fit\n",
      "    self._Booster = train(\n",
      "  File \"/opt/anaconda3/lib/python3.9/site-packages/xgboost/training.py\", line 188, in train\n",
      "    bst = _train_internal(params, dtrain,\n",
      "  File \"/opt/anaconda3/lib/python3.9/site-packages/xgboost/training.py\", line 81, in _train_internal\n",
      "    bst.update(dtrain, i, obj)\n",
      "  File \"/opt/anaconda3/lib/python3.9/site-packages/xgboost/core.py\", line 1680, in update\n",
      "    _check_call(_LIB.XGBoosterUpdateOneIter(self.handle,\n",
      "  File \"/opt/anaconda3/lib/python3.9/site-packages/xgboost/core.py\", line 218, in _check_call\n",
      "    raise XGBoostError(py_str(_LIB.XGBGetLastError()))\n",
      "xgboost.core.XGBoostError: [19:26:35] ../src/objective/./regression_loss.h:89: Check failed: base_score > 0.0f && base_score < 1.0f: base_score must be in (0,1) for logistic loss, got: 1\n",
      "Stack trace:\n",
      "  [bt] (0) 1   libxgboost.dylib                    0x00000001316e9a54 dmlc::LogMessageFatal::~LogMessageFatal() + 116\n",
      "  [bt] (1) 2   libxgboost.dylib                    0x00000001317fc549 xgboost::obj::LogisticRegression::ProbToMargin(float) + 233\n",
      "  [bt] (2) 3   libxgboost.dylib                    0x0000000131799873 xgboost::LearnerConfiguration::Configure() + 1235\n",
      "  [bt] (3) 4   libxgboost.dylib                    0x0000000131799cf7 xgboost::LearnerImpl::UpdateOneIter(int, std::__1::shared_ptr<xgboost::DMatrix>) + 119\n",
      "  [bt] (4) 5   libxgboost.dylib                    0x00000001316edf47 XGBoosterUpdateOneIter + 151\n",
      "  [bt] (5) 6   libffi.7.dylib                      0x000000010bd39ead ffi_call_unix64 + 85\n",
      "  [bt] (6) 7   ???                                 0x0000000305e0ea70 0x0 + 12983528048\n",
      "\n",
      "\n",
      "\n",
      "  warnings.warn(\"Estimator fit failed. The score on this train-test\"\n",
      "/Users/satyasriallaka/.local/lib/python3.9/site-packages/sklearn/model_selection/_validation.py:615: FitFailedWarning: Estimator fit failed. The score on this train-test partition for these parameters will be set to nan. Details: \n",
      "Traceback (most recent call last):\n",
      "  File \"/Users/satyasriallaka/.local/lib/python3.9/site-packages/sklearn/model_selection/_validation.py\", line 598, in _fit_and_score\n",
      "    estimator.fit(X_train, y_train, **fit_params)\n",
      "  File \"/opt/anaconda3/lib/python3.9/site-packages/xgboost/core.py\", line 506, in inner_f\n",
      "    return f(**kwargs)\n",
      "  File \"/opt/anaconda3/lib/python3.9/site-packages/xgboost/sklearn.py\", line 1250, in fit\n",
      "    self._Booster = train(\n",
      "  File \"/opt/anaconda3/lib/python3.9/site-packages/xgboost/training.py\", line 188, in train\n",
      "    bst = _train_internal(params, dtrain,\n",
      "  File \"/opt/anaconda3/lib/python3.9/site-packages/xgboost/training.py\", line 81, in _train_internal\n",
      "    bst.update(dtrain, i, obj)\n",
      "  File \"/opt/anaconda3/lib/python3.9/site-packages/xgboost/core.py\", line 1680, in update\n",
      "    _check_call(_LIB.XGBoosterUpdateOneIter(self.handle,\n",
      "  File \"/opt/anaconda3/lib/python3.9/site-packages/xgboost/core.py\", line 218, in _check_call\n",
      "    raise XGBoostError(py_str(_LIB.XGBGetLastError()))\n",
      "xgboost.core.XGBoostError: [19:26:35] ../src/objective/./regression_loss.h:89: Check failed: base_score > 0.0f && base_score < 1.0f: base_score must be in (0,1) for logistic loss, got: 1\n",
      "Stack trace:\n",
      "  [bt] (0) 1   libxgboost.dylib                    0x0000000133edfa54 dmlc::LogMessageFatal::~LogMessageFatal() + 116\n",
      "  [bt] (1) 2   libxgboost.dylib                    0x0000000133ff2549 xgboost::obj::LogisticRegression::ProbToMargin(float) + 233\n",
      "  [bt] (2) 3   libxgboost.dylib                    0x0000000133f8f873 xgboost::LearnerConfiguration::Configure() + 1235\n",
      "  [bt] (3) 4   libxgboost.dylib                    0x0000000133f8fcf7 xgboost::LearnerImpl::UpdateOneIter(int, std::__1::shared_ptr<xgboost::DMatrix>) + 119\n",
      "  [bt] (4) 5   libxgboost.dylib                    0x0000000133ee3f47 XGBoosterUpdateOneIter + 151\n",
      "  [bt] (5) 6   libffi.7.dylib                      0x000000010e52fead ffi_call_unix64 + 85\n",
      "  [bt] (6) 7   ???                                 0x000000030ae6fa70 0x0 + 13067811440\n",
      "\n",
      "\n",
      "\n",
      "  warnings.warn(\"Estimator fit failed. The score on this train-test\"\n",
      "/Users/satyasriallaka/.local/lib/python3.9/site-packages/sklearn/model_selection/_validation.py:615: FitFailedWarning: Estimator fit failed. The score on this train-test partition for these parameters will be set to nan. Details: \n",
      "Traceback (most recent call last):\n",
      "  File \"/Users/satyasriallaka/.local/lib/python3.9/site-packages/sklearn/model_selection/_validation.py\", line 598, in _fit_and_score\n",
      "    estimator.fit(X_train, y_train, **fit_params)\n",
      "  File \"/opt/anaconda3/lib/python3.9/site-packages/xgboost/core.py\", line 506, in inner_f\n",
      "    return f(**kwargs)\n",
      "  File \"/opt/anaconda3/lib/python3.9/site-packages/xgboost/sklearn.py\", line 1250, in fit\n",
      "    self._Booster = train(\n",
      "  File \"/opt/anaconda3/lib/python3.9/site-packages/xgboost/training.py\", line 188, in train\n",
      "    bst = _train_internal(params, dtrain,\n",
      "  File \"/opt/anaconda3/lib/python3.9/site-packages/xgboost/training.py\", line 81, in _train_internal\n",
      "    bst.update(dtrain, i, obj)\n",
      "  File \"/opt/anaconda3/lib/python3.9/site-packages/xgboost/core.py\", line 1680, in update\n",
      "    _check_call(_LIB.XGBoosterUpdateOneIter(self.handle,\n",
      "  File \"/opt/anaconda3/lib/python3.9/site-packages/xgboost/core.py\", line 218, in _check_call\n",
      "    raise XGBoostError(py_str(_LIB.XGBGetLastError()))\n",
      "xgboost.core.XGBoostError: [19:26:35] ../src/objective/./regression_loss.h:89: Check failed: base_score > 0.0f && base_score < 1.0f: base_score must be in (0,1) for logistic loss, got: 1\n",
      "Stack trace:\n",
      "  [bt] (0) 1   libxgboost.dylib                    0x0000000131531a54 dmlc::LogMessageFatal::~LogMessageFatal() + 116\n",
      "  [bt] (1) 2   libxgboost.dylib                    0x0000000131644549 xgboost::obj::LogisticRegression::ProbToMargin(float) + 233\n",
      "  [bt] (2) 3   libxgboost.dylib                    0x00000001315e1873 xgboost::LearnerConfiguration::Configure() + 1235\n",
      "  [bt] (3) 4   libxgboost.dylib                    0x00000001315e1cf7 xgboost::LearnerImpl::UpdateOneIter(int, std::__1::shared_ptr<xgboost::DMatrix>) + 119\n",
      "  [bt] (4) 5   libxgboost.dylib                    0x0000000131535f47 XGBoosterUpdateOneIter + 151\n",
      "  [bt] (5) 6   libffi.7.dylib                      0x000000010bb81ead ffi_call_unix64 + 85\n",
      "  [bt] (6) 7   ???                                 0x0000000305c3ba70 0x0 + 12981615216\n",
      "\n",
      "\n",
      "\n",
      "  warnings.warn(\"Estimator fit failed. The score on this train-test\"\n",
      "/Users/satyasriallaka/.local/lib/python3.9/site-packages/sklearn/model_selection/_validation.py:615: FitFailedWarning: Estimator fit failed. The score on this train-test partition for these parameters will be set to nan. Details: \n",
      "Traceback (most recent call last):\n",
      "  File \"/Users/satyasriallaka/.local/lib/python3.9/site-packages/sklearn/model_selection/_validation.py\", line 598, in _fit_and_score\n",
      "    estimator.fit(X_train, y_train, **fit_params)\n",
      "  File \"/opt/anaconda3/lib/python3.9/site-packages/xgboost/core.py\", line 506, in inner_f\n",
      "    return f(**kwargs)\n",
      "  File \"/opt/anaconda3/lib/python3.9/site-packages/xgboost/sklearn.py\", line 1250, in fit\n",
      "    self._Booster = train(\n",
      "  File \"/opt/anaconda3/lib/python3.9/site-packages/xgboost/training.py\", line 188, in train\n",
      "    bst = _train_internal(params, dtrain,\n",
      "  File \"/opt/anaconda3/lib/python3.9/site-packages/xgboost/training.py\", line 81, in _train_internal\n",
      "    bst.update(dtrain, i, obj)\n",
      "  File \"/opt/anaconda3/lib/python3.9/site-packages/xgboost/core.py\", line 1680, in update\n",
      "    _check_call(_LIB.XGBoosterUpdateOneIter(self.handle,\n",
      "  File \"/opt/anaconda3/lib/python3.9/site-packages/xgboost/core.py\", line 218, in _check_call\n",
      "    raise XGBoostError(py_str(_LIB.XGBGetLastError()))\n",
      "xgboost.core.XGBoostError: [19:26:35] ../src/objective/./regression_loss.h:89: Check failed: base_score > 0.0f && base_score < 1.0f: base_score must be in (0,1) for logistic loss, got: 1\n",
      "Stack trace:\n",
      "  [bt] (0) 1   libxgboost.dylib                    0x000000012ff06a54 dmlc::LogMessageFatal::~LogMessageFatal() + 116\n",
      "  [bt] (1) 2   libxgboost.dylib                    0x0000000130019549 xgboost::obj::LogisticRegression::ProbToMargin(float) + 233\n",
      "  [bt] (2) 3   libxgboost.dylib                    0x000000012ffb6873 xgboost::LearnerConfiguration::Configure() + 1235\n",
      "  [bt] (3) 4   libxgboost.dylib                    0x000000012ffb6cf7 xgboost::LearnerImpl::UpdateOneIter(int, std::__1::shared_ptr<xgboost::DMatrix>) + 119\n",
      "  [bt] (4) 5   libxgboost.dylib                    0x000000012ff0af47 XGBoosterUpdateOneIter + 151\n",
      "  [bt] (5) 6   libffi.7.dylib                      0x000000010a556ead ffi_call_unix64 + 85\n",
      "  [bt] (6) 7   ???                                 0x0000000302f06a70 0x0 + 12934212208\n",
      "\n",
      "\n",
      "\n",
      "  warnings.warn(\"Estimator fit failed. The score on this train-test\"\n",
      "/Users/satyasriallaka/.local/lib/python3.9/site-packages/sklearn/model_selection/_validation.py:615: FitFailedWarning: Estimator fit failed. The score on this train-test partition for these parameters will be set to nan. Details: \n",
      "Traceback (most recent call last):\n",
      "  File \"/Users/satyasriallaka/.local/lib/python3.9/site-packages/sklearn/model_selection/_validation.py\", line 598, in _fit_and_score\n",
      "    estimator.fit(X_train, y_train, **fit_params)\n",
      "  File \"/opt/anaconda3/lib/python3.9/site-packages/xgboost/core.py\", line 506, in inner_f\n",
      "    return f(**kwargs)\n",
      "  File \"/opt/anaconda3/lib/python3.9/site-packages/xgboost/sklearn.py\", line 1250, in fit\n",
      "    self._Booster = train(\n",
      "  File \"/opt/anaconda3/lib/python3.9/site-packages/xgboost/training.py\", line 188, in train\n",
      "    bst = _train_internal(params, dtrain,\n",
      "  File \"/opt/anaconda3/lib/python3.9/site-packages/xgboost/training.py\", line 81, in _train_internal\n",
      "    bst.update(dtrain, i, obj)\n",
      "  File \"/opt/anaconda3/lib/python3.9/site-packages/xgboost/core.py\", line 1680, in update\n",
      "    _check_call(_LIB.XGBoosterUpdateOneIter(self.handle,\n",
      "  File \"/opt/anaconda3/lib/python3.9/site-packages/xgboost/core.py\", line 218, in _check_call\n",
      "    raise XGBoostError(py_str(_LIB.XGBGetLastError()))\n",
      "xgboost.core.XGBoostError: [19:26:35] ../src/objective/./regression_loss.h:89: Check failed: base_score > 0.0f && base_score < 1.0f: base_score must be in (0,1) for logistic loss, got: 1\n",
      "Stack trace:\n",
      "  [bt] (0) 1   libxgboost.dylib                    0x0000000133fe7a54 dmlc::LogMessageFatal::~LogMessageFatal() + 116\n",
      "  [bt] (1) 2   libxgboost.dylib                    0x00000001340fa549 xgboost::obj::LogisticRegression::ProbToMargin(float) + 233\n",
      "  [bt] (2) 3   libxgboost.dylib                    0x0000000134097873 xgboost::LearnerConfiguration::Configure() + 1235\n",
      "  [bt] (3) 4   libxgboost.dylib                    0x0000000134097cf7 xgboost::LearnerImpl::UpdateOneIter(int, std::__1::shared_ptr<xgboost::DMatrix>) + 119\n",
      "  [bt] (4) 5   libxgboost.dylib                    0x0000000133febf47 XGBoosterUpdateOneIter + 151\n",
      "  [bt] (5) 6   libffi.7.dylib                      0x000000010e637ead ffi_call_unix64 + 85\n",
      "  [bt] (6) 7   ???                                 0x000000030b38da70 0x0 + 13073177200\n",
      "\n",
      "\n",
      "\n",
      "  warnings.warn(\"Estimator fit failed. The score on this train-test\"\n",
      "/Users/satyasriallaka/.local/lib/python3.9/site-packages/sklearn/model_selection/_validation.py:615: FitFailedWarning: Estimator fit failed. The score on this train-test partition for these parameters will be set to nan. Details: \n",
      "Traceback (most recent call last):\n",
      "  File \"/Users/satyasriallaka/.local/lib/python3.9/site-packages/sklearn/model_selection/_validation.py\", line 598, in _fit_and_score\n",
      "    estimator.fit(X_train, y_train, **fit_params)\n",
      "  File \"/opt/anaconda3/lib/python3.9/site-packages/xgboost/core.py\", line 506, in inner_f\n",
      "    return f(**kwargs)\n",
      "  File \"/opt/anaconda3/lib/python3.9/site-packages/xgboost/sklearn.py\", line 1250, in fit\n",
      "    self._Booster = train(\n",
      "  File \"/opt/anaconda3/lib/python3.9/site-packages/xgboost/training.py\", line 188, in train\n",
      "    bst = _train_internal(params, dtrain,\n",
      "  File \"/opt/anaconda3/lib/python3.9/site-packages/xgboost/training.py\", line 81, in _train_internal\n",
      "    bst.update(dtrain, i, obj)\n",
      "  File \"/opt/anaconda3/lib/python3.9/site-packages/xgboost/core.py\", line 1680, in update\n",
      "    _check_call(_LIB.XGBoosterUpdateOneIter(self.handle,\n",
      "  File \"/opt/anaconda3/lib/python3.9/site-packages/xgboost/core.py\", line 218, in _check_call\n",
      "    raise XGBoostError(py_str(_LIB.XGBGetLastError()))\n",
      "xgboost.core.XGBoostError: [19:26:35] ../src/objective/./regression_loss.h:89: Check failed: base_score > 0.0f && base_score < 1.0f: base_score must be in (0,1) for logistic loss, got: 1\n",
      "Stack trace:\n",
      "  [bt] (0) 1   libxgboost.dylib                    0x0000000131affa54 dmlc::LogMessageFatal::~LogMessageFatal() + 116\n",
      "  [bt] (1) 2   libxgboost.dylib                    0x0000000131c12549 xgboost::obj::LogisticRegression::ProbToMargin(float) + 233\n",
      "  [bt] (2) 3   libxgboost.dylib                    0x0000000131baf873 xgboost::LearnerConfiguration::Configure() + 1235\n",
      "  [bt] (3) 4   libxgboost.dylib                    0x0000000131bafcf7 xgboost::LearnerImpl::UpdateOneIter(int, std::__1::shared_ptr<xgboost::DMatrix>) + 119\n",
      "  [bt] (4) 5   libxgboost.dylib                    0x0000000131b03f47 XGBoosterUpdateOneIter + 151\n",
      "  [bt] (5) 6   libffi.7.dylib                      0x000000010c14fead ffi_call_unix64 + 85\n",
      "  [bt] (6) 7   ???                                 0x000000030670aa70 0x0 + 12992948848\n",
      "\n",
      "\n",
      "\n",
      "  warnings.warn(\"Estimator fit failed. The score on this train-test\"\n",
      "/opt/anaconda3/lib/python3.9/site-packages/xgboost/sklearn.py:1224: UserWarning: The use of label encoder in XGBClassifier is deprecated and will be removed in a future release. To remove this warning, do the following: 1) Pass option use_label_encoder=False when constructing XGBClassifier object; and 2) Encode your labels (y) as integers starting with 0, i.e. 0, 1, 2, ..., [num_class - 1].\n",
      "  warnings.warn(label_encoder_deprecation_msg, UserWarning)\n",
      "/Users/satyasriallaka/.local/lib/python3.9/site-packages/sklearn/utils/validation.py:63: DataConversionWarning: A column-vector y was passed when a 1d array was expected. Please change the shape of y to (n_samples, ), for example using ravel().\n",
      "  return f(*args, **kwargs)\n",
      "/opt/anaconda3/lib/python3.9/site-packages/xgboost/sklearn.py:1224: UserWarning: The use of label encoder in XGBClassifier is deprecated and will be removed in a future release. To remove this warning, do the following: 1) Pass option use_label_encoder=False when constructing XGBClassifier object; and 2) Encode your labels (y) as integers starting with 0, i.e. 0, 1, 2, ..., [num_class - 1].\n",
      "  warnings.warn(label_encoder_deprecation_msg, UserWarning)\n",
      "/Users/satyasriallaka/.local/lib/python3.9/site-packages/sklearn/utils/validation.py:63: DataConversionWarning: A column-vector y was passed when a 1d array was expected. Please change the shape of y to (n_samples, ), for example using ravel().\n",
      "  return f(*args, **kwargs)\n"
     ]
    },
    {
     "name": "stderr",
     "output_type": "stream",
     "text": [
      "/Users/satyasriallaka/.local/lib/python3.9/site-packages/sklearn/model_selection/_validation.py:615: FitFailedWarning: Estimator fit failed. The score on this train-test partition for these parameters will be set to nan. Details: \n",
      "Traceback (most recent call last):\n",
      "  File \"/Users/satyasriallaka/.local/lib/python3.9/site-packages/sklearn/model_selection/_validation.py\", line 598, in _fit_and_score\n",
      "    estimator.fit(X_train, y_train, **fit_params)\n",
      "  File \"/opt/anaconda3/lib/python3.9/site-packages/xgboost/core.py\", line 506, in inner_f\n",
      "    return f(**kwargs)\n",
      "  File \"/opt/anaconda3/lib/python3.9/site-packages/xgboost/sklearn.py\", line 1250, in fit\n",
      "    self._Booster = train(\n",
      "  File \"/opt/anaconda3/lib/python3.9/site-packages/xgboost/training.py\", line 188, in train\n",
      "    bst = _train_internal(params, dtrain,\n",
      "  File \"/opt/anaconda3/lib/python3.9/site-packages/xgboost/training.py\", line 81, in _train_internal\n",
      "    bst.update(dtrain, i, obj)\n",
      "  File \"/opt/anaconda3/lib/python3.9/site-packages/xgboost/core.py\", line 1680, in update\n",
      "    _check_call(_LIB.XGBoosterUpdateOneIter(self.handle,\n",
      "  File \"/opt/anaconda3/lib/python3.9/site-packages/xgboost/core.py\", line 218, in _check_call\n",
      "    raise XGBoostError(py_str(_LIB.XGBGetLastError()))\n",
      "xgboost.core.XGBoostError: [19:26:35] ../src/objective/./regression_loss.h:89: Check failed: base_score > 0.0f && base_score < 1.0f: base_score must be in (0,1) for logistic loss, got: 1\n",
      "Stack trace:\n",
      "  [bt] (0) 1   libxgboost.dylib                    0x0000000133818a54 dmlc::LogMessageFatal::~LogMessageFatal() + 116\n",
      "  [bt] (1) 2   libxgboost.dylib                    0x000000013392b549 xgboost::obj::LogisticRegression::ProbToMargin(float) + 233\n",
      "  [bt] (2) 3   libxgboost.dylib                    0x00000001338c8873 xgboost::LearnerConfiguration::Configure() + 1235\n",
      "  [bt] (3) 4   libxgboost.dylib                    0x00000001338c8cf7 xgboost::LearnerImpl::UpdateOneIter(int, std::__1::shared_ptr<xgboost::DMatrix>) + 119\n",
      "  [bt] (4) 5   libxgboost.dylib                    0x000000013381cf47 XGBoosterUpdateOneIter + 151\n",
      "  [bt] (5) 6   libffi.7.dylib                      0x000000010de68ead ffi_call_unix64 + 85\n",
      "  [bt] (6) 7   ???                                 0x000000030a1f5a70 0x0 + 13054728816\n",
      "\n",
      "\n",
      "\n",
      "  warnings.warn(\"Estimator fit failed. The score on this train-test\"\n",
      "/Users/satyasriallaka/.local/lib/python3.9/site-packages/sklearn/model_selection/_validation.py:615: FitFailedWarning: Estimator fit failed. The score on this train-test partition for these parameters will be set to nan. Details: \n",
      "Traceback (most recent call last):\n",
      "  File \"/Users/satyasriallaka/.local/lib/python3.9/site-packages/sklearn/model_selection/_validation.py\", line 598, in _fit_and_score\n",
      "    estimator.fit(X_train, y_train, **fit_params)\n",
      "  File \"/opt/anaconda3/lib/python3.9/site-packages/xgboost/core.py\", line 506, in inner_f\n",
      "    return f(**kwargs)\n",
      "  File \"/opt/anaconda3/lib/python3.9/site-packages/xgboost/sklearn.py\", line 1250, in fit\n",
      "    self._Booster = train(\n",
      "  File \"/opt/anaconda3/lib/python3.9/site-packages/xgboost/training.py\", line 188, in train\n",
      "    bst = _train_internal(params, dtrain,\n",
      "  File \"/opt/anaconda3/lib/python3.9/site-packages/xgboost/training.py\", line 81, in _train_internal\n",
      "    bst.update(dtrain, i, obj)\n",
      "  File \"/opt/anaconda3/lib/python3.9/site-packages/xgboost/core.py\", line 1680, in update\n",
      "    _check_call(_LIB.XGBoosterUpdateOneIter(self.handle,\n",
      "  File \"/opt/anaconda3/lib/python3.9/site-packages/xgboost/core.py\", line 218, in _check_call\n",
      "    raise XGBoostError(py_str(_LIB.XGBGetLastError()))\n",
      "xgboost.core.XGBoostError: [19:26:35] ../src/objective/./regression_loss.h:89: Check failed: base_score > 0.0f && base_score < 1.0f: base_score must be in (0,1) for logistic loss, got: 1\n",
      "Stack trace:\n",
      "  [bt] (0) 1   libxgboost.dylib                    0x0000000130117a54 dmlc::LogMessageFatal::~LogMessageFatal() + 116\n",
      "  [bt] (1) 2   libxgboost.dylib                    0x000000013022a549 xgboost::obj::LogisticRegression::ProbToMargin(float) + 233\n",
      "  [bt] (2) 3   libxgboost.dylib                    0x00000001301c7873 xgboost::LearnerConfiguration::Configure() + 1235\n",
      "  [bt] (3) 4   libxgboost.dylib                    0x00000001301c7cf7 xgboost::LearnerImpl::UpdateOneIter(int, std::__1::shared_ptr<xgboost::DMatrix>) + 119\n",
      "  [bt] (4) 5   libxgboost.dylib                    0x000000013011bf47 XGBoosterUpdateOneIter + 151\n",
      "  [bt] (5) 6   libffi.7.dylib                      0x000000010a767ead ffi_call_unix64 + 85\n",
      "  [bt] (6) 7   ???                                 0x000000030347ba70 0x0 + 12939934320\n",
      "\n",
      "\n",
      "\n",
      "  warnings.warn(\"Estimator fit failed. The score on this train-test\"\n",
      "/opt/anaconda3/lib/python3.9/site-packages/xgboost/sklearn.py:1224: UserWarning: The use of label encoder in XGBClassifier is deprecated and will be removed in a future release. To remove this warning, do the following: 1) Pass option use_label_encoder=False when constructing XGBClassifier object; and 2) Encode your labels (y) as integers starting with 0, i.e. 0, 1, 2, ..., [num_class - 1].\n",
      "  warnings.warn(label_encoder_deprecation_msg, UserWarning)\n",
      "/Users/satyasriallaka/.local/lib/python3.9/site-packages/sklearn/utils/validation.py:63: DataConversionWarning: A column-vector y was passed when a 1d array was expected. Please change the shape of y to (n_samples, ), for example using ravel().\n",
      "  return f(*args, **kwargs)\n",
      "/Users/satyasriallaka/.local/lib/python3.9/site-packages/sklearn/model_selection/_validation.py:615: FitFailedWarning: Estimator fit failed. The score on this train-test partition for these parameters will be set to nan. Details: \n",
      "Traceback (most recent call last):\n",
      "  File \"/Users/satyasriallaka/.local/lib/python3.9/site-packages/sklearn/model_selection/_validation.py\", line 598, in _fit_and_score\n",
      "    estimator.fit(X_train, y_train, **fit_params)\n",
      "  File \"/opt/anaconda3/lib/python3.9/site-packages/xgboost/core.py\", line 506, in inner_f\n",
      "    return f(**kwargs)\n",
      "  File \"/opt/anaconda3/lib/python3.9/site-packages/xgboost/sklearn.py\", line 1250, in fit\n",
      "    self._Booster = train(\n",
      "  File \"/opt/anaconda3/lib/python3.9/site-packages/xgboost/training.py\", line 188, in train\n",
      "    bst = _train_internal(params, dtrain,\n",
      "  File \"/opt/anaconda3/lib/python3.9/site-packages/xgboost/training.py\", line 81, in _train_internal\n",
      "    bst.update(dtrain, i, obj)\n",
      "  File \"/opt/anaconda3/lib/python3.9/site-packages/xgboost/core.py\", line 1680, in update\n",
      "    _check_call(_LIB.XGBoosterUpdateOneIter(self.handle,\n",
      "  File \"/opt/anaconda3/lib/python3.9/site-packages/xgboost/core.py\", line 218, in _check_call\n",
      "    raise XGBoostError(py_str(_LIB.XGBGetLastError()))\n",
      "xgboost.core.XGBoostError: [19:26:35] ../src/objective/./regression_loss.h:89: Check failed: base_score > 0.0f && base_score < 1.0f: base_score must be in (0,1) for logistic loss, got: 1\n",
      "Stack trace:\n",
      "  [bt] (0) 1   libxgboost.dylib                    0x00000001316e9a54 dmlc::LogMessageFatal::~LogMessageFatal() + 116\n",
      "  [bt] (1) 2   libxgboost.dylib                    0x00000001317fc549 xgboost::obj::LogisticRegression::ProbToMargin(float) + 233\n",
      "  [bt] (2) 3   libxgboost.dylib                    0x0000000131799873 xgboost::LearnerConfiguration::Configure() + 1235\n",
      "  [bt] (3) 4   libxgboost.dylib                    0x0000000131799cf7 xgboost::LearnerImpl::UpdateOneIter(int, std::__1::shared_ptr<xgboost::DMatrix>) + 119\n",
      "  [bt] (4) 5   libxgboost.dylib                    0x00000001316edf47 XGBoosterUpdateOneIter + 151\n",
      "  [bt] (5) 6   libffi.7.dylib                      0x000000010bd39ead ffi_call_unix64 + 85\n",
      "  [bt] (6) 7   ???                                 0x0000000305e0ea70 0x0 + 12983528048\n",
      "\n",
      "\n",
      "\n",
      "  warnings.warn(\"Estimator fit failed. The score on this train-test\"\n",
      "/opt/anaconda3/lib/python3.9/site-packages/xgboost/sklearn.py:1224: UserWarning: The use of label encoder in XGBClassifier is deprecated and will be removed in a future release. To remove this warning, do the following: 1) Pass option use_label_encoder=False when constructing XGBClassifier object; and 2) Encode your labels (y) as integers starting with 0, i.e. 0, 1, 2, ..., [num_class - 1].\n",
      "  warnings.warn(label_encoder_deprecation_msg, UserWarning)\n",
      "/Users/satyasriallaka/.local/lib/python3.9/site-packages/sklearn/utils/validation.py:63: DataConversionWarning: A column-vector y was passed when a 1d array was expected. Please change the shape of y to (n_samples, ), for example using ravel().\n",
      "  return f(*args, **kwargs)\n",
      "/Users/satyasriallaka/.local/lib/python3.9/site-packages/sklearn/model_selection/_validation.py:615: FitFailedWarning: Estimator fit failed. The score on this train-test partition for these parameters will be set to nan. Details: \n",
      "Traceback (most recent call last):\n",
      "  File \"/Users/satyasriallaka/.local/lib/python3.9/site-packages/sklearn/model_selection/_validation.py\", line 598, in _fit_and_score\n",
      "    estimator.fit(X_train, y_train, **fit_params)\n",
      "  File \"/opt/anaconda3/lib/python3.9/site-packages/xgboost/core.py\", line 506, in inner_f\n",
      "    return f(**kwargs)\n",
      "  File \"/opt/anaconda3/lib/python3.9/site-packages/xgboost/sklearn.py\", line 1250, in fit\n",
      "    self._Booster = train(\n",
      "  File \"/opt/anaconda3/lib/python3.9/site-packages/xgboost/training.py\", line 188, in train\n",
      "    bst = _train_internal(params, dtrain,\n",
      "  File \"/opt/anaconda3/lib/python3.9/site-packages/xgboost/training.py\", line 81, in _train_internal\n",
      "    bst.update(dtrain, i, obj)\n",
      "  File \"/opt/anaconda3/lib/python3.9/site-packages/xgboost/core.py\", line 1680, in update\n",
      "    _check_call(_LIB.XGBoosterUpdateOneIter(self.handle,\n",
      "  File \"/opt/anaconda3/lib/python3.9/site-packages/xgboost/core.py\", line 218, in _check_call\n",
      "    raise XGBoostError(py_str(_LIB.XGBGetLastError()))\n",
      "xgboost.core.XGBoostError: [19:26:35] ../src/objective/./regression_loss.h:89: Check failed: base_score > 0.0f && base_score < 1.0f: base_score must be in (0,1) for logistic loss, got: 1\n",
      "Stack trace:\n",
      "  [bt] (0) 1   libxgboost.dylib                    0x0000000131531a54 dmlc::LogMessageFatal::~LogMessageFatal() + 116\n",
      "  [bt] (1) 2   libxgboost.dylib                    0x0000000131644549 xgboost::obj::LogisticRegression::ProbToMargin(float) + 233\n",
      "  [bt] (2) 3   libxgboost.dylib                    0x00000001315e1873 xgboost::LearnerConfiguration::Configure() + 1235\n",
      "  [bt] (3) 4   libxgboost.dylib                    0x00000001315e1cf7 xgboost::LearnerImpl::UpdateOneIter(int, std::__1::shared_ptr<xgboost::DMatrix>) + 119\n",
      "  [bt] (4) 5   libxgboost.dylib                    0x0000000131535f47 XGBoosterUpdateOneIter + 151\n",
      "  [bt] (5) 6   libffi.7.dylib                      0x000000010bb81ead ffi_call_unix64 + 85\n",
      "  [bt] (6) 7   ???                                 0x0000000305c3ba70 0x0 + 12981615216\n",
      "\n",
      "\n",
      "\n",
      "  warnings.warn(\"Estimator fit failed. The score on this train-test\"\n",
      "/opt/anaconda3/lib/python3.9/site-packages/xgboost/sklearn.py:1224: UserWarning: The use of label encoder in XGBClassifier is deprecated and will be removed in a future release. To remove this warning, do the following: 1) Pass option use_label_encoder=False when constructing XGBClassifier object; and 2) Encode your labels (y) as integers starting with 0, i.e. 0, 1, 2, ..., [num_class - 1].\n",
      "  warnings.warn(label_encoder_deprecation_msg, UserWarning)\n",
      "/Users/satyasriallaka/.local/lib/python3.9/site-packages/sklearn/utils/validation.py:63: DataConversionWarning: A column-vector y was passed when a 1d array was expected. Please change the shape of y to (n_samples, ), for example using ravel().\n",
      "  return f(*args, **kwargs)\n",
      "/opt/anaconda3/lib/python3.9/site-packages/xgboost/sklearn.py:1224: UserWarning: The use of label encoder in XGBClassifier is deprecated and will be removed in a future release. To remove this warning, do the following: 1) Pass option use_label_encoder=False when constructing XGBClassifier object; and 2) Encode your labels (y) as integers starting with 0, i.e. 0, 1, 2, ..., [num_class - 1].\n",
      "  warnings.warn(label_encoder_deprecation_msg, UserWarning)\n",
      "/Users/satyasriallaka/.local/lib/python3.9/site-packages/sklearn/utils/validation.py:63: DataConversionWarning: A column-vector y was passed when a 1d array was expected. Please change the shape of y to (n_samples, ), for example using ravel().\n",
      "  return f(*args, **kwargs)\n",
      "/opt/anaconda3/lib/python3.9/site-packages/xgboost/sklearn.py:1224: UserWarning: The use of label encoder in XGBClassifier is deprecated and will be removed in a future release. To remove this warning, do the following: 1) Pass option use_label_encoder=False when constructing XGBClassifier object; and 2) Encode your labels (y) as integers starting with 0, i.e. 0, 1, 2, ..., [num_class - 1].\n",
      "  warnings.warn(label_encoder_deprecation_msg, UserWarning)\n",
      "/Users/satyasriallaka/.local/lib/python3.9/site-packages/sklearn/utils/validation.py:63: DataConversionWarning: A column-vector y was passed when a 1d array was expected. Please change the shape of y to (n_samples, ), for example using ravel().\n",
      "  return f(*args, **kwargs)\n",
      "/opt/anaconda3/lib/python3.9/site-packages/xgboost/sklearn.py:1224: UserWarning: The use of label encoder in XGBClassifier is deprecated and will be removed in a future release. To remove this warning, do the following: 1) Pass option use_label_encoder=False when constructing XGBClassifier object; and 2) Encode your labels (y) as integers starting with 0, i.e. 0, 1, 2, ..., [num_class - 1].\n",
      "  warnings.warn(label_encoder_deprecation_msg, UserWarning)\n",
      "/Users/satyasriallaka/.local/lib/python3.9/site-packages/sklearn/utils/validation.py:63: DataConversionWarning: A column-vector y was passed when a 1d array was expected. Please change the shape of y to (n_samples, ), for example using ravel().\n",
      "  return f(*args, **kwargs)\n",
      "/opt/anaconda3/lib/python3.9/site-packages/xgboost/sklearn.py:1224: UserWarning: The use of label encoder in XGBClassifier is deprecated and will be removed in a future release. To remove this warning, do the following: 1) Pass option use_label_encoder=False when constructing XGBClassifier object; and 2) Encode your labels (y) as integers starting with 0, i.e. 0, 1, 2, ..., [num_class - 1].\n",
      "  warnings.warn(label_encoder_deprecation_msg, UserWarning)\n",
      "/Users/satyasriallaka/.local/lib/python3.9/site-packages/sklearn/utils/validation.py:63: DataConversionWarning: A column-vector y was passed when a 1d array was expected. Please change the shape of y to (n_samples, ), for example using ravel().\n",
      "  return f(*args, **kwargs)\n",
      "/Users/satyasriallaka/.local/lib/python3.9/site-packages/sklearn/model_selection/_validation.py:615: FitFailedWarning: Estimator fit failed. The score on this train-test partition for these parameters will be set to nan. Details: \n",
      "Traceback (most recent call last):\n",
      "  File \"/Users/satyasriallaka/.local/lib/python3.9/site-packages/sklearn/model_selection/_validation.py\", line 598, in _fit_and_score\n",
      "    estimator.fit(X_train, y_train, **fit_params)\n",
      "  File \"/opt/anaconda3/lib/python3.9/site-packages/xgboost/core.py\", line 506, in inner_f\n",
      "    return f(**kwargs)\n",
      "  File \"/opt/anaconda3/lib/python3.9/site-packages/xgboost/sklearn.py\", line 1250, in fit\n",
      "    self._Booster = train(\n",
      "  File \"/opt/anaconda3/lib/python3.9/site-packages/xgboost/training.py\", line 188, in train\n",
      "    bst = _train_internal(params, dtrain,\n",
      "  File \"/opt/anaconda3/lib/python3.9/site-packages/xgboost/training.py\", line 81, in _train_internal\n",
      "    bst.update(dtrain, i, obj)\n",
      "  File \"/opt/anaconda3/lib/python3.9/site-packages/xgboost/core.py\", line 1680, in update\n",
      "    _check_call(_LIB.XGBoosterUpdateOneIter(self.handle,\n",
      "  File \"/opt/anaconda3/lib/python3.9/site-packages/xgboost/core.py\", line 218, in _check_call\n",
      "    raise XGBoostError(py_str(_LIB.XGBGetLastError()))\n",
      "xgboost.core.XGBoostError: [19:26:36] ../src/objective/./regression_loss.h:89: Check failed: base_score > 0.0f && base_score < 1.0f: base_score must be in (0,1) for logistic loss, got: 1\n",
      "Stack trace:\n",
      "  [bt] (0) 1   libxgboost.dylib                    0x0000000130117a54 dmlc::LogMessageFatal::~LogMessageFatal() + 116\n",
      "  [bt] (1) 2   libxgboost.dylib                    0x000000013022a549 xgboost::obj::LogisticRegression::ProbToMargin(float) + 233\n",
      "  [bt] (2) 3   libxgboost.dylib                    0x00000001301c7873 xgboost::LearnerConfiguration::Configure() + 1235\n",
      "  [bt] (3) 4   libxgboost.dylib                    0x00000001301c7cf7 xgboost::LearnerImpl::UpdateOneIter(int, std::__1::shared_ptr<xgboost::DMatrix>) + 119\n"
     ]
    },
    {
     "name": "stderr",
     "output_type": "stream",
     "text": [
      "  [bt] (4) 5   libxgboost.dylib                    0x000000013011bf47 XGBoosterUpdateOneIter + 151\n",
      "  [bt] (5) 6   libffi.7.dylib                      0x000000010a767ead ffi_call_unix64 + 85\n",
      "  [bt] (6) 7   ???                                 0x000000030347ba70 0x0 + 12939934320\n",
      "\n",
      "\n",
      "\n",
      "  warnings.warn(\"Estimator fit failed. The score on this train-test\"\n",
      "/opt/anaconda3/lib/python3.9/site-packages/xgboost/sklearn.py:1224: UserWarning: The use of label encoder in XGBClassifier is deprecated and will be removed in a future release. To remove this warning, do the following: 1) Pass option use_label_encoder=False when constructing XGBClassifier object; and 2) Encode your labels (y) as integers starting with 0, i.e. 0, 1, 2, ..., [num_class - 1].\n",
      "  warnings.warn(label_encoder_deprecation_msg, UserWarning)\n",
      "/Users/satyasriallaka/.local/lib/python3.9/site-packages/sklearn/utils/validation.py:63: DataConversionWarning: A column-vector y was passed when a 1d array was expected. Please change the shape of y to (n_samples, ), for example using ravel().\n",
      "  return f(*args, **kwargs)\n",
      "/opt/anaconda3/lib/python3.9/site-packages/xgboost/sklearn.py:1224: UserWarning: The use of label encoder in XGBClassifier is deprecated and will be removed in a future release. To remove this warning, do the following: 1) Pass option use_label_encoder=False when constructing XGBClassifier object; and 2) Encode your labels (y) as integers starting with 0, i.e. 0, 1, 2, ..., [num_class - 1].\n",
      "  warnings.warn(label_encoder_deprecation_msg, UserWarning)\n",
      "/Users/satyasriallaka/.local/lib/python3.9/site-packages/sklearn/utils/validation.py:63: DataConversionWarning: A column-vector y was passed when a 1d array was expected. Please change the shape of y to (n_samples, ), for example using ravel().\n",
      "  return f(*args, **kwargs)\n",
      "/Users/satyasriallaka/.local/lib/python3.9/site-packages/sklearn/model_selection/_validation.py:615: FitFailedWarning: Estimator fit failed. The score on this train-test partition for these parameters will be set to nan. Details: \n",
      "Traceback (most recent call last):\n",
      "  File \"/Users/satyasriallaka/.local/lib/python3.9/site-packages/sklearn/model_selection/_validation.py\", line 598, in _fit_and_score\n",
      "    estimator.fit(X_train, y_train, **fit_params)\n",
      "  File \"/opt/anaconda3/lib/python3.9/site-packages/xgboost/core.py\", line 506, in inner_f\n",
      "    return f(**kwargs)\n",
      "  File \"/opt/anaconda3/lib/python3.9/site-packages/xgboost/sklearn.py\", line 1250, in fit\n",
      "    self._Booster = train(\n",
      "  File \"/opt/anaconda3/lib/python3.9/site-packages/xgboost/training.py\", line 188, in train\n",
      "    bst = _train_internal(params, dtrain,\n",
      "  File \"/opt/anaconda3/lib/python3.9/site-packages/xgboost/training.py\", line 81, in _train_internal\n",
      "    bst.update(dtrain, i, obj)\n",
      "  File \"/opt/anaconda3/lib/python3.9/site-packages/xgboost/core.py\", line 1680, in update\n",
      "    _check_call(_LIB.XGBoosterUpdateOneIter(self.handle,\n",
      "  File \"/opt/anaconda3/lib/python3.9/site-packages/xgboost/core.py\", line 218, in _check_call\n",
      "    raise XGBoostError(py_str(_LIB.XGBGetLastError()))\n",
      "xgboost.core.XGBoostError: [19:26:36] ../src/objective/./regression_loss.h:89: Check failed: base_score > 0.0f && base_score < 1.0f: base_score must be in (0,1) for logistic loss, got: 1\n",
      "Stack trace:\n",
      "  [bt] (0) 1   libxgboost.dylib                    0x0000000133edfa54 dmlc::LogMessageFatal::~LogMessageFatal() + 116\n",
      "  [bt] (1) 2   libxgboost.dylib                    0x0000000133ff2549 xgboost::obj::LogisticRegression::ProbToMargin(float) + 233\n",
      "  [bt] (2) 3   libxgboost.dylib                    0x0000000133f8f873 xgboost::LearnerConfiguration::Configure() + 1235\n",
      "  [bt] (3) 4   libxgboost.dylib                    0x0000000133f8fcf7 xgboost::LearnerImpl::UpdateOneIter(int, std::__1::shared_ptr<xgboost::DMatrix>) + 119\n",
      "  [bt] (4) 5   libxgboost.dylib                    0x0000000133ee3f47 XGBoosterUpdateOneIter + 151\n",
      "  [bt] (5) 6   libffi.7.dylib                      0x000000010e52fead ffi_call_unix64 + 85\n",
      "  [bt] (6) 7   ???                                 0x000000030ae6fa70 0x0 + 13067811440\n",
      "\n",
      "\n",
      "\n",
      "  warnings.warn(\"Estimator fit failed. The score on this train-test\"\n",
      "/opt/anaconda3/lib/python3.9/site-packages/xgboost/sklearn.py:1224: UserWarning: The use of label encoder in XGBClassifier is deprecated and will be removed in a future release. To remove this warning, do the following: 1) Pass option use_label_encoder=False when constructing XGBClassifier object; and 2) Encode your labels (y) as integers starting with 0, i.e. 0, 1, 2, ..., [num_class - 1].\n",
      "  warnings.warn(label_encoder_deprecation_msg, UserWarning)\n",
      "/Users/satyasriallaka/.local/lib/python3.9/site-packages/sklearn/utils/validation.py:63: DataConversionWarning: A column-vector y was passed when a 1d array was expected. Please change the shape of y to (n_samples, ), for example using ravel().\n",
      "  return f(*args, **kwargs)\n",
      "/Users/satyasriallaka/.local/lib/python3.9/site-packages/sklearn/model_selection/_validation.py:615: FitFailedWarning: Estimator fit failed. The score on this train-test partition for these parameters will be set to nan. Details: \n",
      "Traceback (most recent call last):\n",
      "  File \"/Users/satyasriallaka/.local/lib/python3.9/site-packages/sklearn/model_selection/_validation.py\", line 598, in _fit_and_score\n",
      "    estimator.fit(X_train, y_train, **fit_params)\n",
      "  File \"/opt/anaconda3/lib/python3.9/site-packages/xgboost/core.py\", line 506, in inner_f\n",
      "    return f(**kwargs)\n",
      "  File \"/opt/anaconda3/lib/python3.9/site-packages/xgboost/sklearn.py\", line 1250, in fit\n",
      "    self._Booster = train(\n",
      "  File \"/opt/anaconda3/lib/python3.9/site-packages/xgboost/training.py\", line 188, in train\n",
      "    bst = _train_internal(params, dtrain,\n",
      "  File \"/opt/anaconda3/lib/python3.9/site-packages/xgboost/training.py\", line 81, in _train_internal\n",
      "    bst.update(dtrain, i, obj)\n",
      "  File \"/opt/anaconda3/lib/python3.9/site-packages/xgboost/core.py\", line 1680, in update\n",
      "    _check_call(_LIB.XGBoosterUpdateOneIter(self.handle,\n",
      "  File \"/opt/anaconda3/lib/python3.9/site-packages/xgboost/core.py\", line 218, in _check_call\n",
      "    raise XGBoostError(py_str(_LIB.XGBGetLastError()))\n",
      "xgboost.core.XGBoostError: [19:26:36] ../src/objective/./regression_loss.h:89: Check failed: base_score > 0.0f && base_score < 1.0f: base_score must be in (0,1) for logistic loss, got: 1\n",
      "Stack trace:\n",
      "  [bt] (0) 1   libxgboost.dylib                    0x0000000133818a54 dmlc::LogMessageFatal::~LogMessageFatal() + 116\n",
      "  [bt] (1) 2   libxgboost.dylib                    0x000000013392b549 xgboost::obj::LogisticRegression::ProbToMargin(float) + 233\n",
      "  [bt] (2) 3   libxgboost.dylib                    0x00000001338c8873 xgboost::LearnerConfiguration::Configure() + 1235\n",
      "  [bt] (3) 4   libxgboost.dylib                    0x00000001338c8cf7 xgboost::LearnerImpl::UpdateOneIter(int, std::__1::shared_ptr<xgboost::DMatrix>) + 119\n",
      "  [bt] (4) 5   libxgboost.dylib                    0x000000013381cf47 XGBoosterUpdateOneIter + 151\n",
      "  [bt] (5) 6   libffi.7.dylib                      0x000000010de68ead ffi_call_unix64 + 85\n",
      "  [bt] (6) 7   ???                                 0x000000030a1f5a70 0x0 + 13054728816\n",
      "\n",
      "\n",
      "\n",
      "  warnings.warn(\"Estimator fit failed. The score on this train-test\"\n",
      "/opt/anaconda3/lib/python3.9/site-packages/xgboost/sklearn.py:1224: UserWarning: The use of label encoder in XGBClassifier is deprecated and will be removed in a future release. To remove this warning, do the following: 1) Pass option use_label_encoder=False when constructing XGBClassifier object; and 2) Encode your labels (y) as integers starting with 0, i.e. 0, 1, 2, ..., [num_class - 1].\n",
      "  warnings.warn(label_encoder_deprecation_msg, UserWarning)\n",
      "/Users/satyasriallaka/.local/lib/python3.9/site-packages/sklearn/utils/validation.py:63: DataConversionWarning: A column-vector y was passed when a 1d array was expected. Please change the shape of y to (n_samples, ), for example using ravel().\n",
      "  return f(*args, **kwargs)\n",
      "/Users/satyasriallaka/.local/lib/python3.9/site-packages/sklearn/model_selection/_validation.py:615: FitFailedWarning: Estimator fit failed. The score on this train-test partition for these parameters will be set to nan. Details: \n",
      "Traceback (most recent call last):\n",
      "  File \"/Users/satyasriallaka/.local/lib/python3.9/site-packages/sklearn/model_selection/_validation.py\", line 598, in _fit_and_score\n",
      "    estimator.fit(X_train, y_train, **fit_params)\n",
      "  File \"/opt/anaconda3/lib/python3.9/site-packages/xgboost/core.py\", line 506, in inner_f\n",
      "    return f(**kwargs)\n",
      "  File \"/opt/anaconda3/lib/python3.9/site-packages/xgboost/sklearn.py\", line 1250, in fit\n",
      "    self._Booster = train(\n",
      "  File \"/opt/anaconda3/lib/python3.9/site-packages/xgboost/training.py\", line 188, in train\n",
      "    bst = _train_internal(params, dtrain,\n",
      "  File \"/opt/anaconda3/lib/python3.9/site-packages/xgboost/training.py\", line 81, in _train_internal\n",
      "    bst.update(dtrain, i, obj)\n",
      "  File \"/opt/anaconda3/lib/python3.9/site-packages/xgboost/core.py\", line 1680, in update\n",
      "    _check_call(_LIB.XGBoosterUpdateOneIter(self.handle,\n",
      "  File \"/opt/anaconda3/lib/python3.9/site-packages/xgboost/core.py\", line 218, in _check_call\n",
      "    raise XGBoostError(py_str(_LIB.XGBGetLastError()))\n",
      "xgboost.core.XGBoostError: [19:26:36] ../src/objective/./regression_loss.h:89: Check failed: base_score > 0.0f && base_score < 1.0f: base_score must be in (0,1) for logistic loss, got: 1\n",
      "Stack trace:\n",
      "  [bt] (0) 1   libxgboost.dylib                    0x0000000130117a54 dmlc::LogMessageFatal::~LogMessageFatal() + 116\n",
      "  [bt] (1) 2   libxgboost.dylib                    0x000000013022a549 xgboost::obj::LogisticRegression::ProbToMargin(float) + 233\n",
      "  [bt] (2) 3   libxgboost.dylib                    0x00000001301c7873 xgboost::LearnerConfiguration::Configure() + 1235\n",
      "  [bt] (3) 4   libxgboost.dylib                    0x00000001301c7cf7 xgboost::LearnerImpl::UpdateOneIter(int, std::__1::shared_ptr<xgboost::DMatrix>) + 119\n",
      "  [bt] (4) 5   libxgboost.dylib                    0x000000013011bf47 XGBoosterUpdateOneIter + 151\n",
      "  [bt] (5) 6   libffi.7.dylib                      0x000000010a767ead ffi_call_unix64 + 85\n",
      "  [bt] (6) 7   ???                                 0x000000030347ba70 0x0 + 12939934320\n",
      "\n",
      "\n",
      "\n",
      "  warnings.warn(\"Estimator fit failed. The score on this train-test\"\n",
      "/Users/satyasriallaka/.local/lib/python3.9/site-packages/sklearn/model_selection/_validation.py:615: FitFailedWarning: Estimator fit failed. The score on this train-test partition for these parameters will be set to nan. Details: \n",
      "Traceback (most recent call last):\n",
      "  File \"/Users/satyasriallaka/.local/lib/python3.9/site-packages/sklearn/model_selection/_validation.py\", line 598, in _fit_and_score\n",
      "    estimator.fit(X_train, y_train, **fit_params)\n",
      "  File \"/opt/anaconda3/lib/python3.9/site-packages/xgboost/core.py\", line 506, in inner_f\n",
      "    return f(**kwargs)\n",
      "  File \"/opt/anaconda3/lib/python3.9/site-packages/xgboost/sklearn.py\", line 1250, in fit\n",
      "    self._Booster = train(\n",
      "  File \"/opt/anaconda3/lib/python3.9/site-packages/xgboost/training.py\", line 188, in train\n",
      "    bst = _train_internal(params, dtrain,\n",
      "  File \"/opt/anaconda3/lib/python3.9/site-packages/xgboost/training.py\", line 81, in _train_internal\n",
      "    bst.update(dtrain, i, obj)\n",
      "  File \"/opt/anaconda3/lib/python3.9/site-packages/xgboost/core.py\", line 1680, in update\n",
      "    _check_call(_LIB.XGBoosterUpdateOneIter(self.handle,\n",
      "  File \"/opt/anaconda3/lib/python3.9/site-packages/xgboost/core.py\", line 218, in _check_call\n",
      "    raise XGBoostError(py_str(_LIB.XGBGetLastError()))\n",
      "xgboost.core.XGBoostError: [19:26:36] ../src/objective/./regression_loss.h:89: Check failed: base_score > 0.0f && base_score < 1.0f: base_score must be in (0,1) for logistic loss, got: 1\n",
      "Stack trace:\n",
      "  [bt] (0) 1   libxgboost.dylib                    0x0000000133edfa54 dmlc::LogMessageFatal::~LogMessageFatal() + 116\n",
      "  [bt] (1) 2   libxgboost.dylib                    0x0000000133ff2549 xgboost::obj::LogisticRegression::ProbToMargin(float) + 233\n",
      "  [bt] (2) 3   libxgboost.dylib                    0x0000000133f8f873 xgboost::LearnerConfiguration::Configure() + 1235\n",
      "  [bt] (3) 4   libxgboost.dylib                    0x0000000133f8fcf7 xgboost::LearnerImpl::UpdateOneIter(int, std::__1::shared_ptr<xgboost::DMatrix>) + 119\n",
      "  [bt] (4) 5   libxgboost.dylib                    0x0000000133ee3f47 XGBoosterUpdateOneIter + 151\n",
      "  [bt] (5) 6   libffi.7.dylib                      0x000000010e52fead ffi_call_unix64 + 85\n",
      "  [bt] (6) 7   ???                                 0x000000030ae6fa70 0x0 + 13067811440\n",
      "\n",
      "\n",
      "\n",
      "  warnings.warn(\"Estimator fit failed. The score on this train-test\"\n"
     ]
    },
    {
     "name": "stderr",
     "output_type": "stream",
     "text": [
      "/opt/anaconda3/lib/python3.9/site-packages/xgboost/sklearn.py:1224: UserWarning: The use of label encoder in XGBClassifier is deprecated and will be removed in a future release. To remove this warning, do the following: 1) Pass option use_label_encoder=False when constructing XGBClassifier object; and 2) Encode your labels (y) as integers starting with 0, i.e. 0, 1, 2, ..., [num_class - 1].\n",
      "  warnings.warn(label_encoder_deprecation_msg, UserWarning)\n",
      "/Users/satyasriallaka/.local/lib/python3.9/site-packages/sklearn/utils/validation.py:63: DataConversionWarning: A column-vector y was passed when a 1d array was expected. Please change the shape of y to (n_samples, ), for example using ravel().\n",
      "  return f(*args, **kwargs)\n",
      "/opt/anaconda3/lib/python3.9/site-packages/xgboost/sklearn.py:1224: UserWarning: The use of label encoder in XGBClassifier is deprecated and will be removed in a future release. To remove this warning, do the following: 1) Pass option use_label_encoder=False when constructing XGBClassifier object; and 2) Encode your labels (y) as integers starting with 0, i.e. 0, 1, 2, ..., [num_class - 1].\n",
      "  warnings.warn(label_encoder_deprecation_msg, UserWarning)\n",
      "/Users/satyasriallaka/.local/lib/python3.9/site-packages/sklearn/utils/validation.py:63: DataConversionWarning: A column-vector y was passed when a 1d array was expected. Please change the shape of y to (n_samples, ), for example using ravel().\n",
      "  return f(*args, **kwargs)\n",
      "/opt/anaconda3/lib/python3.9/site-packages/xgboost/sklearn.py:1224: UserWarning: The use of label encoder in XGBClassifier is deprecated and will be removed in a future release. To remove this warning, do the following: 1) Pass option use_label_encoder=False when constructing XGBClassifier object; and 2) Encode your labels (y) as integers starting with 0, i.e. 0, 1, 2, ..., [num_class - 1].\n",
      "  warnings.warn(label_encoder_deprecation_msg, UserWarning)\n",
      "/Users/satyasriallaka/.local/lib/python3.9/site-packages/sklearn/utils/validation.py:63: DataConversionWarning: A column-vector y was passed when a 1d array was expected. Please change the shape of y to (n_samples, ), for example using ravel().\n",
      "  return f(*args, **kwargs)\n",
      "/opt/anaconda3/lib/python3.9/site-packages/xgboost/sklearn.py:1224: UserWarning: The use of label encoder in XGBClassifier is deprecated and will be removed in a future release. To remove this warning, do the following: 1) Pass option use_label_encoder=False when constructing XGBClassifier object; and 2) Encode your labels (y) as integers starting with 0, i.e. 0, 1, 2, ..., [num_class - 1].\n",
      "  warnings.warn(label_encoder_deprecation_msg, UserWarning)\n",
      "/Users/satyasriallaka/.local/lib/python3.9/site-packages/sklearn/utils/validation.py:63: DataConversionWarning: A column-vector y was passed when a 1d array was expected. Please change the shape of y to (n_samples, ), for example using ravel().\n",
      "  return f(*args, **kwargs)\n",
      "/opt/anaconda3/lib/python3.9/site-packages/xgboost/sklearn.py:1224: UserWarning: The use of label encoder in XGBClassifier is deprecated and will be removed in a future release. To remove this warning, do the following: 1) Pass option use_label_encoder=False when constructing XGBClassifier object; and 2) Encode your labels (y) as integers starting with 0, i.e. 0, 1, 2, ..., [num_class - 1].\n",
      "  warnings.warn(label_encoder_deprecation_msg, UserWarning)\n",
      "/Users/satyasriallaka/.local/lib/python3.9/site-packages/sklearn/utils/validation.py:63: DataConversionWarning: A column-vector y was passed when a 1d array was expected. Please change the shape of y to (n_samples, ), for example using ravel().\n",
      "  return f(*args, **kwargs)\n",
      "/opt/anaconda3/lib/python3.9/site-packages/xgboost/sklearn.py:1224: UserWarning: The use of label encoder in XGBClassifier is deprecated and will be removed in a future release. To remove this warning, do the following: 1) Pass option use_label_encoder=False when constructing XGBClassifier object; and 2) Encode your labels (y) as integers starting with 0, i.e. 0, 1, 2, ..., [num_class - 1].\n",
      "  warnings.warn(label_encoder_deprecation_msg, UserWarning)\n",
      "/Users/satyasriallaka/.local/lib/python3.9/site-packages/sklearn/utils/validation.py:63: DataConversionWarning: A column-vector y was passed when a 1d array was expected. Please change the shape of y to (n_samples, ), for example using ravel().\n",
      "  return f(*args, **kwargs)\n",
      "/opt/anaconda3/lib/python3.9/site-packages/xgboost/sklearn.py:1224: UserWarning: The use of label encoder in XGBClassifier is deprecated and will be removed in a future release. To remove this warning, do the following: 1) Pass option use_label_encoder=False when constructing XGBClassifier object; and 2) Encode your labels (y) as integers starting with 0, i.e. 0, 1, 2, ..., [num_class - 1].\n",
      "  warnings.warn(label_encoder_deprecation_msg, UserWarning)\n",
      "/Users/satyasriallaka/.local/lib/python3.9/site-packages/sklearn/utils/validation.py:63: DataConversionWarning: A column-vector y was passed when a 1d array was expected. Please change the shape of y to (n_samples, ), for example using ravel().\n",
      "  return f(*args, **kwargs)\n",
      "/opt/anaconda3/lib/python3.9/site-packages/xgboost/sklearn.py:1224: UserWarning: The use of label encoder in XGBClassifier is deprecated and will be removed in a future release. To remove this warning, do the following: 1) Pass option use_label_encoder=False when constructing XGBClassifier object; and 2) Encode your labels (y) as integers starting with 0, i.e. 0, 1, 2, ..., [num_class - 1].\n",
      "  warnings.warn(label_encoder_deprecation_msg, UserWarning)\n",
      "/Users/satyasriallaka/.local/lib/python3.9/site-packages/sklearn/utils/validation.py:63: DataConversionWarning: A column-vector y was passed when a 1d array was expected. Please change the shape of y to (n_samples, ), for example using ravel().\n",
      "  return f(*args, **kwargs)\n",
      "/opt/anaconda3/lib/python3.9/site-packages/xgboost/sklearn.py:1224: UserWarning: The use of label encoder in XGBClassifier is deprecated and will be removed in a future release. To remove this warning, do the following: 1) Pass option use_label_encoder=False when constructing XGBClassifier object; and 2) Encode your labels (y) as integers starting with 0, i.e. 0, 1, 2, ..., [num_class - 1].\n",
      "  warnings.warn(label_encoder_deprecation_msg, UserWarning)\n",
      "/Users/satyasriallaka/.local/lib/python3.9/site-packages/sklearn/utils/validation.py:63: DataConversionWarning: A column-vector y was passed when a 1d array was expected. Please change the shape of y to (n_samples, ), for example using ravel().\n",
      "  return f(*args, **kwargs)\n",
      "/opt/anaconda3/lib/python3.9/site-packages/xgboost/sklearn.py:1224: UserWarning: The use of label encoder in XGBClassifier is deprecated and will be removed in a future release. To remove this warning, do the following: 1) Pass option use_label_encoder=False when constructing XGBClassifier object; and 2) Encode your labels (y) as integers starting with 0, i.e. 0, 1, 2, ..., [num_class - 1].\n",
      "  warnings.warn(label_encoder_deprecation_msg, UserWarning)\n",
      "/Users/satyasriallaka/.local/lib/python3.9/site-packages/sklearn/utils/validation.py:63: DataConversionWarning: A column-vector y was passed when a 1d array was expected. Please change the shape of y to (n_samples, ), for example using ravel().\n",
      "  return f(*args, **kwargs)\n",
      "/opt/anaconda3/lib/python3.9/site-packages/xgboost/sklearn.py:1224: UserWarning: The use of label encoder in XGBClassifier is deprecated and will be removed in a future release. To remove this warning, do the following: 1) Pass option use_label_encoder=False when constructing XGBClassifier object; and 2) Encode your labels (y) as integers starting with 0, i.e. 0, 1, 2, ..., [num_class - 1].\n",
      "  warnings.warn(label_encoder_deprecation_msg, UserWarning)\n",
      "/Users/satyasriallaka/.local/lib/python3.9/site-packages/sklearn/utils/validation.py:63: DataConversionWarning: A column-vector y was passed when a 1d array was expected. Please change the shape of y to (n_samples, ), for example using ravel().\n",
      "  return f(*args, **kwargs)\n",
      "/opt/anaconda3/lib/python3.9/site-packages/xgboost/sklearn.py:1224: UserWarning: The use of label encoder in XGBClassifier is deprecated and will be removed in a future release. To remove this warning, do the following: 1) Pass option use_label_encoder=False when constructing XGBClassifier object; and 2) Encode your labels (y) as integers starting with 0, i.e. 0, 1, 2, ..., [num_class - 1].\n",
      "  warnings.warn(label_encoder_deprecation_msg, UserWarning)\n",
      "/Users/satyasriallaka/.local/lib/python3.9/site-packages/sklearn/utils/validation.py:63: DataConversionWarning: A column-vector y was passed when a 1d array was expected. Please change the shape of y to (n_samples, ), for example using ravel().\n",
      "  return f(*args, **kwargs)\n"
     ]
    },
    {
     "name": "stderr",
     "output_type": "stream",
     "text": [
      "/opt/anaconda3/lib/python3.9/site-packages/xgboost/sklearn.py:1224: UserWarning: The use of label encoder in XGBClassifier is deprecated and will be removed in a future release. To remove this warning, do the following: 1) Pass option use_label_encoder=False when constructing XGBClassifier object; and 2) Encode your labels (y) as integers starting with 0, i.e. 0, 1, 2, ..., [num_class - 1].\n",
      "  warnings.warn(label_encoder_deprecation_msg, UserWarning)\n",
      "/Users/satyasriallaka/.local/lib/python3.9/site-packages/sklearn/utils/validation.py:63: DataConversionWarning: A column-vector y was passed when a 1d array was expected. Please change the shape of y to (n_samples, ), for example using ravel().\n",
      "  return f(*args, **kwargs)\n",
      "/opt/anaconda3/lib/python3.9/site-packages/xgboost/sklearn.py:1224: UserWarning: The use of label encoder in XGBClassifier is deprecated and will be removed in a future release. To remove this warning, do the following: 1) Pass option use_label_encoder=False when constructing XGBClassifier object; and 2) Encode your labels (y) as integers starting with 0, i.e. 0, 1, 2, ..., [num_class - 1].\n",
      "  warnings.warn(label_encoder_deprecation_msg, UserWarning)\n",
      "/Users/satyasriallaka/.local/lib/python3.9/site-packages/sklearn/utils/validation.py:63: DataConversionWarning: A column-vector y was passed when a 1d array was expected. Please change the shape of y to (n_samples, ), for example using ravel().\n",
      "  return f(*args, **kwargs)\n",
      "/opt/anaconda3/lib/python3.9/site-packages/xgboost/sklearn.py:1224: UserWarning: The use of label encoder in XGBClassifier is deprecated and will be removed in a future release. To remove this warning, do the following: 1) Pass option use_label_encoder=False when constructing XGBClassifier object; and 2) Encode your labels (y) as integers starting with 0, i.e. 0, 1, 2, ..., [num_class - 1].\n",
      "  warnings.warn(label_encoder_deprecation_msg, UserWarning)\n",
      "/Users/satyasriallaka/.local/lib/python3.9/site-packages/sklearn/utils/validation.py:63: DataConversionWarning: A column-vector y was passed when a 1d array was expected. Please change the shape of y to (n_samples, ), for example using ravel().\n",
      "  return f(*args, **kwargs)\n",
      "/opt/anaconda3/lib/python3.9/site-packages/xgboost/sklearn.py:1224: UserWarning: The use of label encoder in XGBClassifier is deprecated and will be removed in a future release. To remove this warning, do the following: 1) Pass option use_label_encoder=False when constructing XGBClassifier object; and 2) Encode your labels (y) as integers starting with 0, i.e. 0, 1, 2, ..., [num_class - 1].\n",
      "  warnings.warn(label_encoder_deprecation_msg, UserWarning)\n",
      "/Users/satyasriallaka/.local/lib/python3.9/site-packages/sklearn/utils/validation.py:63: DataConversionWarning: A column-vector y was passed when a 1d array was expected. Please change the shape of y to (n_samples, ), for example using ravel().\n",
      "  return f(*args, **kwargs)\n",
      "/opt/anaconda3/lib/python3.9/site-packages/xgboost/sklearn.py:1224: UserWarning: The use of label encoder in XGBClassifier is deprecated and will be removed in a future release. To remove this warning, do the following: 1) Pass option use_label_encoder=False when constructing XGBClassifier object; and 2) Encode your labels (y) as integers starting with 0, i.e. 0, 1, 2, ..., [num_class - 1].\n",
      "  warnings.warn(label_encoder_deprecation_msg, UserWarning)\n",
      "/Users/satyasriallaka/.local/lib/python3.9/site-packages/sklearn/utils/validation.py:63: DataConversionWarning: A column-vector y was passed when a 1d array was expected. Please change the shape of y to (n_samples, ), for example using ravel().\n",
      "  return f(*args, **kwargs)\n",
      "/opt/anaconda3/lib/python3.9/site-packages/xgboost/sklearn.py:1224: UserWarning: The use of label encoder in XGBClassifier is deprecated and will be removed in a future release. To remove this warning, do the following: 1) Pass option use_label_encoder=False when constructing XGBClassifier object; and 2) Encode your labels (y) as integers starting with 0, i.e. 0, 1, 2, ..., [num_class - 1].\n",
      "  warnings.warn(label_encoder_deprecation_msg, UserWarning)\n",
      "/Users/satyasriallaka/.local/lib/python3.9/site-packages/sklearn/utils/validation.py:63: DataConversionWarning: A column-vector y was passed when a 1d array was expected. Please change the shape of y to (n_samples, ), for example using ravel().\n",
      "  return f(*args, **kwargs)\n",
      "/opt/anaconda3/lib/python3.9/site-packages/xgboost/sklearn.py:1224: UserWarning: The use of label encoder in XGBClassifier is deprecated and will be removed in a future release. To remove this warning, do the following: 1) Pass option use_label_encoder=False when constructing XGBClassifier object; and 2) Encode your labels (y) as integers starting with 0, i.e. 0, 1, 2, ..., [num_class - 1].\n",
      "  warnings.warn(label_encoder_deprecation_msg, UserWarning)\n",
      "/Users/satyasriallaka/.local/lib/python3.9/site-packages/sklearn/utils/validation.py:63: DataConversionWarning: A column-vector y was passed when a 1d array was expected. Please change the shape of y to (n_samples, ), for example using ravel().\n",
      "  return f(*args, **kwargs)\n",
      "/opt/anaconda3/lib/python3.9/site-packages/xgboost/sklearn.py:1224: UserWarning: The use of label encoder in XGBClassifier is deprecated and will be removed in a future release. To remove this warning, do the following: 1) Pass option use_label_encoder=False when constructing XGBClassifier object; and 2) Encode your labels (y) as integers starting with 0, i.e. 0, 1, 2, ..., [num_class - 1].\n",
      "  warnings.warn(label_encoder_deprecation_msg, UserWarning)\n",
      "/Users/satyasriallaka/.local/lib/python3.9/site-packages/sklearn/utils/validation.py:63: DataConversionWarning: A column-vector y was passed when a 1d array was expected. Please change the shape of y to (n_samples, ), for example using ravel().\n",
      "  return f(*args, **kwargs)\n",
      "/opt/anaconda3/lib/python3.9/site-packages/xgboost/sklearn.py:1224: UserWarning: The use of label encoder in XGBClassifier is deprecated and will be removed in a future release. To remove this warning, do the following: 1) Pass option use_label_encoder=False when constructing XGBClassifier object; and 2) Encode your labels (y) as integers starting with 0, i.e. 0, 1, 2, ..., [num_class - 1].\n",
      "  warnings.warn(label_encoder_deprecation_msg, UserWarning)\n",
      "/Users/satyasriallaka/.local/lib/python3.9/site-packages/sklearn/utils/validation.py:63: DataConversionWarning: A column-vector y was passed when a 1d array was expected. Please change the shape of y to (n_samples, ), for example using ravel().\n",
      "  return f(*args, **kwargs)\n",
      "/opt/anaconda3/lib/python3.9/site-packages/xgboost/sklearn.py:1224: UserWarning: The use of label encoder in XGBClassifier is deprecated and will be removed in a future release. To remove this warning, do the following: 1) Pass option use_label_encoder=False when constructing XGBClassifier object; and 2) Encode your labels (y) as integers starting with 0, i.e. 0, 1, 2, ..., [num_class - 1].\n",
      "  warnings.warn(label_encoder_deprecation_msg, UserWarning)\n",
      "/Users/satyasriallaka/.local/lib/python3.9/site-packages/sklearn/utils/validation.py:63: DataConversionWarning: A column-vector y was passed when a 1d array was expected. Please change the shape of y to (n_samples, ), for example using ravel().\n",
      "  return f(*args, **kwargs)\n",
      "/opt/anaconda3/lib/python3.9/site-packages/xgboost/sklearn.py:1224: UserWarning: The use of label encoder in XGBClassifier is deprecated and will be removed in a future release. To remove this warning, do the following: 1) Pass option use_label_encoder=False when constructing XGBClassifier object; and 2) Encode your labels (y) as integers starting with 0, i.e. 0, 1, 2, ..., [num_class - 1].\n",
      "  warnings.warn(label_encoder_deprecation_msg, UserWarning)\n",
      "/Users/satyasriallaka/.local/lib/python3.9/site-packages/sklearn/utils/validation.py:63: DataConversionWarning: A column-vector y was passed when a 1d array was expected. Please change the shape of y to (n_samples, ), for example using ravel().\n",
      "  return f(*args, **kwargs)\n",
      "/opt/anaconda3/lib/python3.9/site-packages/xgboost/sklearn.py:1224: UserWarning: The use of label encoder in XGBClassifier is deprecated and will be removed in a future release. To remove this warning, do the following: 1) Pass option use_label_encoder=False when constructing XGBClassifier object; and 2) Encode your labels (y) as integers starting with 0, i.e. 0, 1, 2, ..., [num_class - 1].\n",
      "  warnings.warn(label_encoder_deprecation_msg, UserWarning)\n",
      "/Users/satyasriallaka/.local/lib/python3.9/site-packages/sklearn/utils/validation.py:63: DataConversionWarning: A column-vector y was passed when a 1d array was expected. Please change the shape of y to (n_samples, ), for example using ravel().\n",
      "  return f(*args, **kwargs)\n"
     ]
    },
    {
     "name": "stderr",
     "output_type": "stream",
     "text": [
      "/opt/anaconda3/lib/python3.9/site-packages/xgboost/sklearn.py:1224: UserWarning: The use of label encoder in XGBClassifier is deprecated and will be removed in a future release. To remove this warning, do the following: 1) Pass option use_label_encoder=False when constructing XGBClassifier object; and 2) Encode your labels (y) as integers starting with 0, i.e. 0, 1, 2, ..., [num_class - 1].\n",
      "  warnings.warn(label_encoder_deprecation_msg, UserWarning)\n",
      "/Users/satyasriallaka/.local/lib/python3.9/site-packages/sklearn/utils/validation.py:63: DataConversionWarning: A column-vector y was passed when a 1d array was expected. Please change the shape of y to (n_samples, ), for example using ravel().\n",
      "  return f(*args, **kwargs)\n",
      "/Users/satyasriallaka/.local/lib/python3.9/site-packages/sklearn/model_selection/_validation.py:615: FitFailedWarning: Estimator fit failed. The score on this train-test partition for these parameters will be set to nan. Details: \n",
      "Traceback (most recent call last):\n",
      "  File \"/Users/satyasriallaka/.local/lib/python3.9/site-packages/sklearn/model_selection/_validation.py\", line 598, in _fit_and_score\n",
      "    estimator.fit(X_train, y_train, **fit_params)\n",
      "  File \"/opt/anaconda3/lib/python3.9/site-packages/xgboost/core.py\", line 506, in inner_f\n",
      "    return f(**kwargs)\n",
      "  File \"/opt/anaconda3/lib/python3.9/site-packages/xgboost/sklearn.py\", line 1250, in fit\n",
      "    self._Booster = train(\n",
      "  File \"/opt/anaconda3/lib/python3.9/site-packages/xgboost/training.py\", line 188, in train\n",
      "    bst = _train_internal(params, dtrain,\n",
      "  File \"/opt/anaconda3/lib/python3.9/site-packages/xgboost/training.py\", line 81, in _train_internal\n",
      "    bst.update(dtrain, i, obj)\n",
      "  File \"/opt/anaconda3/lib/python3.9/site-packages/xgboost/core.py\", line 1680, in update\n",
      "    _check_call(_LIB.XGBoosterUpdateOneIter(self.handle,\n",
      "  File \"/opt/anaconda3/lib/python3.9/site-packages/xgboost/core.py\", line 218, in _check_call\n",
      "    raise XGBoostError(py_str(_LIB.XGBGetLastError()))\n",
      "xgboost.core.XGBoostError: [19:39:27] ../src/objective/./regression_loss.h:89: Check failed: base_score > 0.0f && base_score < 1.0f: base_score must be in (0,1) for logistic loss, got: 1\n",
      "Stack trace:\n",
      "  [bt] (0) 1   libxgboost.dylib                    0x0000000130117a54 dmlc::LogMessageFatal::~LogMessageFatal() + 116\n",
      "  [bt] (1) 2   libxgboost.dylib                    0x000000013022a549 xgboost::obj::LogisticRegression::ProbToMargin(float) + 233\n",
      "  [bt] (2) 3   libxgboost.dylib                    0x00000001301c7873 xgboost::LearnerConfiguration::Configure() + 1235\n",
      "  [bt] (3) 4   libxgboost.dylib                    0x00000001301c7cf7 xgboost::LearnerImpl::UpdateOneIter(int, std::__1::shared_ptr<xgboost::DMatrix>) + 119\n",
      "  [bt] (4) 5   libxgboost.dylib                    0x000000013011bf47 XGBoosterUpdateOneIter + 151\n",
      "  [bt] (5) 6   libffi.7.dylib                      0x000000010a767ead ffi_call_unix64 + 85\n",
      "  [bt] (6) 7   ???                                 0x000000030347ba70 0x0 + 12939934320\n",
      "\n",
      "\n",
      "\n",
      "  warnings.warn(\"Estimator fit failed. The score on this train-test\"\n",
      "/opt/anaconda3/lib/python3.9/site-packages/xgboost/sklearn.py:1224: UserWarning: The use of label encoder in XGBClassifier is deprecated and will be removed in a future release. To remove this warning, do the following: 1) Pass option use_label_encoder=False when constructing XGBClassifier object; and 2) Encode your labels (y) as integers starting with 0, i.e. 0, 1, 2, ..., [num_class - 1].\n",
      "  warnings.warn(label_encoder_deprecation_msg, UserWarning)\n",
      "/Users/satyasriallaka/.local/lib/python3.9/site-packages/sklearn/utils/validation.py:63: DataConversionWarning: A column-vector y was passed when a 1d array was expected. Please change the shape of y to (n_samples, ), for example using ravel().\n",
      "  return f(*args, **kwargs)\n",
      "/Users/satyasriallaka/.local/lib/python3.9/site-packages/sklearn/model_selection/_validation.py:615: FitFailedWarning: Estimator fit failed. The score on this train-test partition for these parameters will be set to nan. Details: \n",
      "Traceback (most recent call last):\n",
      "  File \"/Users/satyasriallaka/.local/lib/python3.9/site-packages/sklearn/model_selection/_validation.py\", line 598, in _fit_and_score\n",
      "    estimator.fit(X_train, y_train, **fit_params)\n",
      "  File \"/opt/anaconda3/lib/python3.9/site-packages/xgboost/core.py\", line 506, in inner_f\n",
      "    return f(**kwargs)\n",
      "  File \"/opt/anaconda3/lib/python3.9/site-packages/xgboost/sklearn.py\", line 1250, in fit\n",
      "    self._Booster = train(\n",
      "  File \"/opt/anaconda3/lib/python3.9/site-packages/xgboost/training.py\", line 188, in train\n",
      "    bst = _train_internal(params, dtrain,\n",
      "  File \"/opt/anaconda3/lib/python3.9/site-packages/xgboost/training.py\", line 81, in _train_internal\n",
      "    bst.update(dtrain, i, obj)\n",
      "  File \"/opt/anaconda3/lib/python3.9/site-packages/xgboost/core.py\", line 1680, in update\n",
      "    _check_call(_LIB.XGBoosterUpdateOneIter(self.handle,\n",
      "  File \"/opt/anaconda3/lib/python3.9/site-packages/xgboost/core.py\", line 218, in _check_call\n",
      "    raise XGBoostError(py_str(_LIB.XGBGetLastError()))\n",
      "xgboost.core.XGBoostError: [19:39:27] ../src/objective/./regression_loss.h:89: Check failed: base_score > 0.0f && base_score < 1.0f: base_score must be in (0,1) for logistic loss, got: 1\n",
      "Stack trace:\n",
      "  [bt] (0) 1   libxgboost.dylib                    0x0000000130117a54 dmlc::LogMessageFatal::~LogMessageFatal() + 116\n",
      "  [bt] (1) 2   libxgboost.dylib                    0x000000013022a549 xgboost::obj::LogisticRegression::ProbToMargin(float) + 233\n",
      "  [bt] (2) 3   libxgboost.dylib                    0x00000001301c7873 xgboost::LearnerConfiguration::Configure() + 1235\n",
      "  [bt] (3) 4   libxgboost.dylib                    0x00000001301c7cf7 xgboost::LearnerImpl::UpdateOneIter(int, std::__1::shared_ptr<xgboost::DMatrix>) + 119\n",
      "  [bt] (4) 5   libxgboost.dylib                    0x000000013011bf47 XGBoosterUpdateOneIter + 151\n",
      "  [bt] (5) 6   libffi.7.dylib                      0x000000010a767ead ffi_call_unix64 + 85\n",
      "  [bt] (6) 7   ???                                 0x000000030347ba70 0x0 + 12939934320\n",
      "\n",
      "\n",
      "\n",
      "  warnings.warn(\"Estimator fit failed. The score on this train-test\"\n",
      "/opt/anaconda3/lib/python3.9/site-packages/xgboost/sklearn.py:1224: UserWarning: The use of label encoder in XGBClassifier is deprecated and will be removed in a future release. To remove this warning, do the following: 1) Pass option use_label_encoder=False when constructing XGBClassifier object; and 2) Encode your labels (y) as integers starting with 0, i.e. 0, 1, 2, ..., [num_class - 1].\n",
      "  warnings.warn(label_encoder_deprecation_msg, UserWarning)\n",
      "/Users/satyasriallaka/.local/lib/python3.9/site-packages/sklearn/utils/validation.py:63: DataConversionWarning: A column-vector y was passed when a 1d array was expected. Please change the shape of y to (n_samples, ), for example using ravel().\n",
      "  return f(*args, **kwargs)\n",
      "/Users/satyasriallaka/.local/lib/python3.9/site-packages/sklearn/model_selection/_validation.py:615: FitFailedWarning: Estimator fit failed. The score on this train-test partition for these parameters will be set to nan. Details: \n",
      "Traceback (most recent call last):\n",
      "  File \"/Users/satyasriallaka/.local/lib/python3.9/site-packages/sklearn/model_selection/_validation.py\", line 598, in _fit_and_score\n",
      "    estimator.fit(X_train, y_train, **fit_params)\n",
      "  File \"/opt/anaconda3/lib/python3.9/site-packages/xgboost/core.py\", line 506, in inner_f\n",
      "    return f(**kwargs)\n",
      "  File \"/opt/anaconda3/lib/python3.9/site-packages/xgboost/sklearn.py\", line 1250, in fit\n",
      "    self._Booster = train(\n",
      "  File \"/opt/anaconda3/lib/python3.9/site-packages/xgboost/training.py\", line 188, in train\n",
      "    bst = _train_internal(params, dtrain,\n",
      "  File \"/opt/anaconda3/lib/python3.9/site-packages/xgboost/training.py\", line 81, in _train_internal\n",
      "    bst.update(dtrain, i, obj)\n",
      "  File \"/opt/anaconda3/lib/python3.9/site-packages/xgboost/core.py\", line 1680, in update\n",
      "    _check_call(_LIB.XGBoosterUpdateOneIter(self.handle,\n",
      "  File \"/opt/anaconda3/lib/python3.9/site-packages/xgboost/core.py\", line 218, in _check_call\n",
      "    raise XGBoostError(py_str(_LIB.XGBGetLastError()))\n",
      "xgboost.core.XGBoostError: [19:39:27] ../src/objective/./regression_loss.h:89: Check failed: base_score > 0.0f && base_score < 1.0f: base_score must be in (0,1) for logistic loss, got: 1\n",
      "Stack trace:\n",
      "  [bt] (0) 1   libxgboost.dylib                    0x0000000130117a54 dmlc::LogMessageFatal::~LogMessageFatal() + 116\n",
      "  [bt] (1) 2   libxgboost.dylib                    0x000000013022a549 xgboost::obj::LogisticRegression::ProbToMargin(float) + 233\n",
      "  [bt] (2) 3   libxgboost.dylib                    0x00000001301c7873 xgboost::LearnerConfiguration::Configure() + 1235\n",
      "  [bt] (3) 4   libxgboost.dylib                    0x00000001301c7cf7 xgboost::LearnerImpl::UpdateOneIter(int, std::__1::shared_ptr<xgboost::DMatrix>) + 119\n",
      "  [bt] (4) 5   libxgboost.dylib                    0x000000013011bf47 XGBoosterUpdateOneIter + 151\n",
      "  [bt] (5) 6   libffi.7.dylib                      0x000000010a767ead ffi_call_unix64 + 85\n",
      "  [bt] (6) 7   ???                                 0x000000030347ba70 0x0 + 12939934320\n",
      "\n",
      "\n",
      "\n",
      "  warnings.warn(\"Estimator fit failed. The score on this train-test\"\n",
      "/opt/anaconda3/lib/python3.9/site-packages/xgboost/sklearn.py:1224: UserWarning: The use of label encoder in XGBClassifier is deprecated and will be removed in a future release. To remove this warning, do the following: 1) Pass option use_label_encoder=False when constructing XGBClassifier object; and 2) Encode your labels (y) as integers starting with 0, i.e. 0, 1, 2, ..., [num_class - 1].\n",
      "  warnings.warn(label_encoder_deprecation_msg, UserWarning)\n",
      "/Users/satyasriallaka/.local/lib/python3.9/site-packages/sklearn/utils/validation.py:63: DataConversionWarning: A column-vector y was passed when a 1d array was expected. Please change the shape of y to (n_samples, ), for example using ravel().\n",
      "  return f(*args, **kwargs)\n",
      "/Users/satyasriallaka/.local/lib/python3.9/site-packages/sklearn/model_selection/_validation.py:615: FitFailedWarning: Estimator fit failed. The score on this train-test partition for these parameters will be set to nan. Details: \n",
      "Traceback (most recent call last):\n",
      "  File \"/Users/satyasriallaka/.local/lib/python3.9/site-packages/sklearn/model_selection/_validation.py\", line 598, in _fit_and_score\n",
      "    estimator.fit(X_train, y_train, **fit_params)\n",
      "  File \"/opt/anaconda3/lib/python3.9/site-packages/xgboost/core.py\", line 506, in inner_f\n",
      "    return f(**kwargs)\n",
      "  File \"/opt/anaconda3/lib/python3.9/site-packages/xgboost/sklearn.py\", line 1250, in fit\n",
      "    self._Booster = train(\n",
      "  File \"/opt/anaconda3/lib/python3.9/site-packages/xgboost/training.py\", line 188, in train\n",
      "    bst = _train_internal(params, dtrain,\n",
      "  File \"/opt/anaconda3/lib/python3.9/site-packages/xgboost/training.py\", line 81, in _train_internal\n",
      "    bst.update(dtrain, i, obj)\n",
      "  File \"/opt/anaconda3/lib/python3.9/site-packages/xgboost/core.py\", line 1680, in update\n",
      "    _check_call(_LIB.XGBoosterUpdateOneIter(self.handle,\n",
      "  File \"/opt/anaconda3/lib/python3.9/site-packages/xgboost/core.py\", line 218, in _check_call\n",
      "    raise XGBoostError(py_str(_LIB.XGBGetLastError()))\n",
      "xgboost.core.XGBoostError: [19:39:27] ../src/objective/./regression_loss.h:89: Check failed: base_score > 0.0f && base_score < 1.0f: base_score must be in (0,1) for logistic loss, got: 1\n",
      "Stack trace:\n",
      "  [bt] (0) 1   libxgboost.dylib                    0x0000000130117a54 dmlc::LogMessageFatal::~LogMessageFatal() + 116\n",
      "  [bt] (1) 2   libxgboost.dylib                    0x000000013022a549 xgboost::obj::LogisticRegression::ProbToMargin(float) + 233\n",
      "  [bt] (2) 3   libxgboost.dylib                    0x00000001301c7873 xgboost::LearnerConfiguration::Configure() + 1235\n",
      "  [bt] (3) 4   libxgboost.dylib                    0x00000001301c7cf7 xgboost::LearnerImpl::UpdateOneIter(int, std::__1::shared_ptr<xgboost::DMatrix>) + 119\n",
      "  [bt] (4) 5   libxgboost.dylib                    0x000000013011bf47 XGBoosterUpdateOneIter + 151\n",
      "  [bt] (5) 6   libffi.7.dylib                      0x000000010a767ead ffi_call_unix64 + 85\n",
      "  [bt] (6) 7   ???                                 0x000000030347ba70 0x0 + 12939934320\n",
      "\n",
      "\n",
      "\n",
      "  warnings.warn(\"Estimator fit failed. The score on this train-test\"\n"
     ]
    },
    {
     "name": "stderr",
     "output_type": "stream",
     "text": [
      "/opt/anaconda3/lib/python3.9/site-packages/xgboost/sklearn.py:1224: UserWarning: The use of label encoder in XGBClassifier is deprecated and will be removed in a future release. To remove this warning, do the following: 1) Pass option use_label_encoder=False when constructing XGBClassifier object; and 2) Encode your labels (y) as integers starting with 0, i.e. 0, 1, 2, ..., [num_class - 1].\n",
      "  warnings.warn(label_encoder_deprecation_msg, UserWarning)\n",
      "/Users/satyasriallaka/.local/lib/python3.9/site-packages/sklearn/utils/validation.py:63: DataConversionWarning: A column-vector y was passed when a 1d array was expected. Please change the shape of y to (n_samples, ), for example using ravel().\n",
      "  return f(*args, **kwargs)\n",
      "/Users/satyasriallaka/.local/lib/python3.9/site-packages/sklearn/model_selection/_validation.py:615: FitFailedWarning: Estimator fit failed. The score on this train-test partition for these parameters will be set to nan. Details: \n",
      "Traceback (most recent call last):\n",
      "  File \"/Users/satyasriallaka/.local/lib/python3.9/site-packages/sklearn/model_selection/_validation.py\", line 598, in _fit_and_score\n",
      "    estimator.fit(X_train, y_train, **fit_params)\n",
      "  File \"/opt/anaconda3/lib/python3.9/site-packages/xgboost/core.py\", line 506, in inner_f\n",
      "    return f(**kwargs)\n",
      "  File \"/opt/anaconda3/lib/python3.9/site-packages/xgboost/sklearn.py\", line 1250, in fit\n",
      "    self._Booster = train(\n",
      "  File \"/opt/anaconda3/lib/python3.9/site-packages/xgboost/training.py\", line 188, in train\n",
      "    bst = _train_internal(params, dtrain,\n",
      "  File \"/opt/anaconda3/lib/python3.9/site-packages/xgboost/training.py\", line 81, in _train_internal\n",
      "    bst.update(dtrain, i, obj)\n",
      "  File \"/opt/anaconda3/lib/python3.9/site-packages/xgboost/core.py\", line 1680, in update\n",
      "    _check_call(_LIB.XGBoosterUpdateOneIter(self.handle,\n",
      "  File \"/opt/anaconda3/lib/python3.9/site-packages/xgboost/core.py\", line 218, in _check_call\n",
      "    raise XGBoostError(py_str(_LIB.XGBGetLastError()))\n",
      "xgboost.core.XGBoostError: [19:39:27] ../src/objective/./regression_loss.h:89: Check failed: base_score > 0.0f && base_score < 1.0f: base_score must be in (0,1) for logistic loss, got: 1\n",
      "Stack trace:\n",
      "  [bt] (0) 1   libxgboost.dylib                    0x0000000130117a54 dmlc::LogMessageFatal::~LogMessageFatal() + 116\n",
      "  [bt] (1) 2   libxgboost.dylib                    0x000000013022a549 xgboost::obj::LogisticRegression::ProbToMargin(float) + 233\n",
      "  [bt] (2) 3   libxgboost.dylib                    0x00000001301c7873 xgboost::LearnerConfiguration::Configure() + 1235\n",
      "  [bt] (3) 4   libxgboost.dylib                    0x00000001301c7cf7 xgboost::LearnerImpl::UpdateOneIter(int, std::__1::shared_ptr<xgboost::DMatrix>) + 119\n",
      "  [bt] (4) 5   libxgboost.dylib                    0x000000013011bf47 XGBoosterUpdateOneIter + 151\n",
      "  [bt] (5) 6   libffi.7.dylib                      0x000000010a767ead ffi_call_unix64 + 85\n",
      "  [bt] (6) 7   ???                                 0x000000030347ba70 0x0 + 12939934320\n",
      "\n",
      "\n",
      "\n",
      "  warnings.warn(\"Estimator fit failed. The score on this train-test\"\n"
     ]
    },
    {
     "name": "stdout",
     "output_type": "stream",
     "text": [
      "[19:41:58] WARNING: ../src/learner.cc:1115: Starting in XGBoost 1.3.0, the default evaluation metric used with the objective 'binary:logistic' was changed from 'error' to 'logloss'. Explicitly set eval_metric if you'd like to restore the old behavior.\n",
      "Best score: 0.8541818209108165\n",
      "Best score: {'reg_lambda': 1, 'n_estimators': 100, 'learning_rate': 0.05, 'base_score': 0.5, 'alpha': 1}\n",
      "[19:26:36] WARNING: ../src/learner.cc:1115: Starting in XGBoost 1.3.0, the default evaluation metric used with the objective 'binary:logistic' was changed from 'error' to 'logloss'. Explicitly set eval_metric if you'd like to restore the old behavior.\n",
      "[19:34:04] WARNING: ../src/learner.cc:1115: Starting in XGBoost 1.3.0, the default evaluation metric used with the objective 'binary:logistic' was changed from 'error' to 'logloss'. Explicitly set eval_metric if you'd like to restore the old behavior.\n",
      "[19:26:36] WARNING: ../src/learner.cc:1115: Starting in XGBoost 1.3.0, the default evaluation metric used with the objective 'binary:logistic' was changed from 'error' to 'logloss'. Explicitly set eval_metric if you'd like to restore the old behavior.\n",
      "[19:31:13] WARNING: ../src/learner.cc:1115: Starting in XGBoost 1.3.0, the default evaluation metric used with the objective 'binary:logistic' was changed from 'error' to 'logloss'. Explicitly set eval_metric if you'd like to restore the old behavior.\n",
      "[19:26:36] WARNING: ../src/learner.cc:1115: Starting in XGBoost 1.3.0, the default evaluation metric used with the objective 'binary:logistic' was changed from 'error' to 'logloss'. Explicitly set eval_metric if you'd like to restore the old behavior.\n",
      "[19:31:11] WARNING: ../src/learner.cc:1115: Starting in XGBoost 1.3.0, the default evaluation metric used with the objective 'binary:logistic' was changed from 'error' to 'logloss'. Explicitly set eval_metric if you'd like to restore the old behavior.\n",
      "[19:26:36] WARNING: ../src/learner.cc:1115: Starting in XGBoost 1.3.0, the default evaluation metric used with the objective 'binary:logistic' was changed from 'error' to 'logloss'. Explicitly set eval_metric if you'd like to restore the old behavior.\n",
      "[19:31:16] WARNING: ../src/learner.cc:1115: Starting in XGBoost 1.3.0, the default evaluation metric used with the objective 'binary:logistic' was changed from 'error' to 'logloss'. Explicitly set eval_metric if you'd like to restore the old behavior.\n",
      "[19:36:25] WARNING: ../src/learner.cc:1115: Starting in XGBoost 1.3.0, the default evaluation metric used with the objective 'binary:logistic' was changed from 'error' to 'logloss'. Explicitly set eval_metric if you'd like to restore the old behavior.\n",
      "[19:37:01] WARNING: ../src/learner.cc:1115: Starting in XGBoost 1.3.0, the default evaluation metric used with the objective 'binary:logistic' was changed from 'error' to 'logloss'. Explicitly set eval_metric if you'd like to restore the old behavior.\n",
      "[19:26:36] WARNING: ../src/learner.cc:1115: Starting in XGBoost 1.3.0, the default evaluation metric used with the objective 'binary:logistic' was changed from 'error' to 'logloss'. Explicitly set eval_metric if you'd like to restore the old behavior.\n",
      "[19:31:15] WARNING: ../src/learner.cc:1115: Starting in XGBoost 1.3.0, the default evaluation metric used with the objective 'binary:logistic' was changed from 'error' to 'logloss'. Explicitly set eval_metric if you'd like to restore the old behavior.\n",
      "[19:36:25] WARNING: ../src/learner.cc:1115: Starting in XGBoost 1.3.0, the default evaluation metric used with the objective 'binary:logistic' was changed from 'error' to 'logloss'. Explicitly set eval_metric if you'd like to restore the old behavior.\n",
      "[19:37:01] WARNING: ../src/learner.cc:1115: Starting in XGBoost 1.3.0, the default evaluation metric used with the objective 'binary:logistic' was changed from 'error' to 'logloss'. Explicitly set eval_metric if you'd like to restore the old behavior.\n",
      "[19:26:36] WARNING: ../src/learner.cc:1115: Starting in XGBoost 1.3.0, the default evaluation metric used with the objective 'binary:logistic' was changed from 'error' to 'logloss'. Explicitly set eval_metric if you'd like to restore the old behavior.\n",
      "[19:34:06] WARNING: ../src/learner.cc:1115: Starting in XGBoost 1.3.0, the default evaluation metric used with the objective 'binary:logistic' was changed from 'error' to 'logloss'. Explicitly set eval_metric if you'd like to restore the old behavior.\n",
      "[19:34:40] WARNING: ../src/learner.cc:1115: Starting in XGBoost 1.3.0, the default evaluation metric used with the objective 'binary:logistic' was changed from 'error' to 'logloss'. Explicitly set eval_metric if you'd like to restore the old behavior.\n",
      "[19:35:14] WARNING: ../src/learner.cc:1115: Starting in XGBoost 1.3.0, the default evaluation metric used with the objective 'binary:logistic' was changed from 'error' to 'logloss'. Explicitly set eval_metric if you'd like to restore the old behavior.\n",
      "[19:35:50] WARNING: ../src/learner.cc:1115: Starting in XGBoost 1.3.0, the default evaluation metric used with the objective 'binary:logistic' was changed from 'error' to 'logloss'. Explicitly set eval_metric if you'd like to restore the old behavior.\n",
      "[19:36:25] WARNING: ../src/learner.cc:1115: Starting in XGBoost 1.3.0, the default evaluation metric used with the objective 'binary:logistic' was changed from 'error' to 'logloss'. Explicitly set eval_metric if you'd like to restore the old behavior.\n",
      "[19:37:01] WARNING: ../src/learner.cc:1115: Starting in XGBoost 1.3.0, the default evaluation metric used with the objective 'binary:logistic' was changed from 'error' to 'logloss'. Explicitly set eval_metric if you'd like to restore the old behavior.\n",
      "[19:37:36] WARNING: ../src/learner.cc:1115: Starting in XGBoost 1.3.0, the default evaluation metric used with the objective 'binary:logistic' was changed from 'error' to 'logloss'. Explicitly set eval_metric if you'd like to restore the old behavior.\n",
      "[19:26:36] WARNING: ../src/learner.cc:1115: Starting in XGBoost 1.3.0, the default evaluation metric used with the objective 'binary:logistic' was changed from 'error' to 'logloss'. Explicitly set eval_metric if you'd like to restore the old behavior.\n",
      "[19:31:15] WARNING: ../src/learner.cc:1115: Starting in XGBoost 1.3.0, the default evaluation metric used with the objective 'binary:logistic' was changed from 'error' to 'logloss'. Explicitly set eval_metric if you'd like to restore the old behavior.\n",
      "[19:36:22] WARNING: ../src/learner.cc:1115: Starting in XGBoost 1.3.0, the default evaluation metric used with the objective 'binary:logistic' was changed from 'error' to 'logloss'. Explicitly set eval_metric if you'd like to restore the old behavior.\n",
      "[19:36:57] WARNING: ../src/learner.cc:1115: Starting in XGBoost 1.3.0, the default evaluation metric used with the objective 'binary:logistic' was changed from 'error' to 'logloss'. Explicitly set eval_metric if you'd like to restore the old behavior.\n",
      "[19:37:33] WARNING: ../src/learner.cc:1115: Starting in XGBoost 1.3.0, the default evaluation metric used with the objective 'binary:logistic' was changed from 'error' to 'logloss'. Explicitly set eval_metric if you'd like to restore the old behavior.\n",
      "[19:26:36] WARNING: ../src/learner.cc:1115: Starting in XGBoost 1.3.0, the default evaluation metric used with the objective 'binary:logistic' was changed from 'error' to 'logloss'. Explicitly set eval_metric if you'd like to restore the old behavior.\n",
      "[19:34:03] WARNING: ../src/learner.cc:1115: Starting in XGBoost 1.3.0, the default evaluation metric used with the objective 'binary:logistic' was changed from 'error' to 'logloss'. Explicitly set eval_metric if you'd like to restore the old behavior.\n",
      "[19:39:24] WARNING: ../src/learner.cc:1115: Starting in XGBoost 1.3.0, the default evaluation metric used with the objective 'binary:logistic' was changed from 'error' to 'logloss'. Explicitly set eval_metric if you'd like to restore the old behavior.\n"
     ]
    }
   ],
   "source": [
    "from sklearn import model_selection\n",
    "params = {\n",
    "    'n_estimators': [100, 500,1000,1500],\n",
    "    'learning_rate': [0.01,0.05,0.1],\n",
    "#    'scale_pos_weight':[5,10,15,20],\n",
    "    'alpha': [0, 0.5, 1],\n",
    "    'reg_lambda': [0.5, 1, 5],\n",
    "    'base_score': [0.2, 0.5, 1]\n",
    "}\n",
    "\n",
    "gs2 = RandomizedSearchCV(XGBClassifier(n_jobs=-1,scale_pos_weight=13,booster='gbtree'), params, n_jobs=-1, cv=model_selection.KFold(n_splits=5), scoring='roc_auc')\n",
    "gs2.fit(X_train, y_train)\n",
    "\n",
    "print('Best score:', gs2.best_score_)\n",
    "print('Best score:', gs2.best_params_)"
   ]
  },
  {
   "cell_type": "code",
   "execution_count": 77,
   "id": "e6409424",
   "metadata": {},
   "outputs": [
    {
     "name": "stdout",
     "output_type": "stream",
     "text": [
      "Train performance\n",
      "-------------------------------------------------------\n",
      "              precision    recall  f1-score   support\n",
      "\n",
      "           0       0.98      0.80      0.88    104980\n",
      "           1       0.22      0.78      0.34      7520\n",
      "\n",
      "    accuracy                           0.80    112500\n",
      "   macro avg       0.60      0.79      0.61    112500\n",
      "weighted avg       0.93      0.80      0.85    112500\n",
      "\n",
      "Test performance\n",
      "-------------------------------------------------------\n",
      "              precision    recall  f1-score   support\n",
      "\n",
      "           0       0.98      0.80      0.88     34994\n",
      "           1       0.22      0.76      0.34      2506\n",
      "\n",
      "    accuracy                           0.80     37500\n",
      "   macro avg       0.60      0.78      0.61     37500\n",
      "weighted avg       0.93      0.80      0.85     37500\n",
      "\n",
      "Roc_auc score\n",
      "-------------------------------------------------------\n",
      "0.7833507634486286\n",
      "\n",
      "Confusion matrix\n",
      "-------------------------------------------------------\n",
      "[[28056  6938]\n",
      " [  589  1917]]\n"
     ]
    }
   ],
   "source": [
    "y_train_hat = gs2.predict(X_train)\n",
    "y_test_hat = gs2.predict(X_test)\n",
    "\n",
    "#print(xgb)\n",
    "print('Train performance')\n",
    "print('-------------------------------------------------------')\n",
    "print(classification_report(y_train, y_train_hat))\n",
    "\n",
    "print('Test performance')\n",
    "print('-------------------------------------------------------')\n",
    "print(classification_report(y_test, y_test_hat))\n",
    "\n",
    "print('Roc_auc score')\n",
    "print('-------------------------------------------------------')\n",
    "print(roc_auc_score(y_test, y_test_hat))\n",
    "print('')\n",
    "\n",
    "print('Confusion matrix')\n",
    "print('-------------------------------------------------------')\n",
    "print(confusion_matrix(y_test, y_test_hat))"
   ]
  },
  {
   "cell_type": "code",
   "execution_count": 78,
   "id": "17fa11f5",
   "metadata": {},
   "outputs": [
    {
     "data": {
      "image/png": "[encoded data removed]",
      "text/plain": [
       "<Figure size 432x288 with 1 Axes>"
      ]
     },
     "metadata": {},
     "output_type": "display_data"
    }
   ],
   "source": [
    "#gain curve\n",
    "import scikitplot as skplt\n",
    "predict_prob = gs2.predict_proba(X_test)\n",
    "skplt.metrics.plot_cumulative_gain(y_test,predict_prob)\n",
    "plt.show()"
   ]
  },
  {
   "cell_type": "markdown",
   "id": "67ddeeb5",
   "metadata": {},
   "source": [
    "# test prediction"
   ]
  },
  {
   "cell_type": "code",
   "execution_count": 79,
   "id": "4f4145d8",
   "metadata": {},
   "outputs": [],
   "source": [
    "test.rename(columns={'Var0':'cust_id','Var1':'target','Var2':'line_of_credit','Var3':'age',\n",
    "                      'Var4':'delinquency_30days','Var5':'iir','Var6':'income',\n",
    "                      'Var7':'open_loans','Var8':'delinquency_90days',\n",
    "                      'Var9':'mortagage','Var10':'delinquency_60days',\n",
    "                      'Var11':'dependents'},inplace=True)"
   ]
  },
  {
   "cell_type": "code",
   "execution_count": 84,
   "id": "07cf83bc",
   "metadata": {},
   "outputs": [],
   "source": [
    "test.loc[test['dependents']=='Not Available','dependents'] = -99\n",
    "test.loc[test['income']=='Not Available','income'] = -99\n",
    "test['income'] = test['income'].astype(int)\n",
    "\n",
    "test['dependents'] = test['dependents'].astype(int)\n",
    "\n",
    "\n",
    "test['delinquency_90days'].loc[test['delinquency_90days']>0] = 1\n",
    "test['delinquency_60days'].loc[test['delinquency_60days']>0] = 1\n",
    "test['delinquency_30days'].loc[test['delinquency_30days']>0] = 1\n",
    "\n",
    "test.loc[test['age']==0,'age'] = test['age'].mode()[0]"
   ]
  },
  {
   "cell_type": "code",
   "execution_count": 88,
   "id": "2d5d75e5",
   "metadata": {},
   "outputs": [
    {
     "data": {
      "text/plain": [
       "1.0    63437\n",
       "0.0    38066\n",
       "Name: mortagage1, dtype: int64"
      ]
     },
     "execution_count": 88,
     "metadata": {},
     "output_type": "execute_result"
    }
   ],
   "source": [
    "test.loc[test['mortagage']>=1,'mortagage1'] = 1\n",
    "test['mortagage1'].fillna(0,inplace=True)\n",
    "test['mortagage1'].value_counts()"
   ]
  },
  {
   "cell_type": "code",
   "execution_count": 90,
   "id": "eacdf7f5",
   "metadata": {},
   "outputs": [
    {
     "data": {
      "text/plain": [
       "low          31428\n",
       "medium       26794\n",
       "very_high    23356\n",
       "high         19925\n",
       "Name: open_loans_credit, dtype: int64"
      ]
     },
     "execution_count": 90,
     "metadata": {},
     "output_type": "execute_result"
    }
   ],
   "source": [
    "bins = [-1,5,8,11,100]\n",
    "labels = ['low','medium','high','very_high']\n",
    "test['open_loans_credit'] = pd.cut(test['open_loans'],bins=bins,labels=labels)\n",
    "test['open_loans_credit'].value_counts()"
   ]
  },
  {
   "cell_type": "code",
   "execution_count": 91,
   "id": "d6fabb72",
   "metadata": {},
   "outputs": [],
   "source": [
    "test['loan_per_dti'] = test['iir']/test['mortagage']\n",
    "\n",
    "test['loan_per_dti'][test['loan_per_dti']==np.inf] = 0\n",
    "test.loc[test['loan_per_dti'].isnull(),'loan_per_dti'] = 0\n",
    "\n",
    "test['dependents'][test['dependents']<0] = 0\n",
    "test.loc[test['income']<0,'income'] = 5437\n",
    "test['income'] = test['income'].astype(int)\n",
    "bins = [-1,3903,5437,7400,np.inf]\n",
    "labels = ['low','medium','high','very_high']\n",
    "test['income1'] = pd.cut(test['income'],bins=bins,labels=labels)\n",
    "test['income1'].value_counts()"
   ]
  },
  {
   "cell_type": "code",
   "execution_count": 95,
   "id": "d0793518",
   "metadata": {},
   "outputs": [
    {
     "data": {
      "text/plain": [
       "Index(['cust_id', 'target', 'delinquency_30days', 'income', 'open_loans',\n",
       "       'delinquency_90days', 'delinquency_60days', 'dependents', 'age', 'iir',\n",
       "       'mortagage', 'line_of_credit', 'mortagage1', 'open_loans_credit',\n",
       "       'loan_per_dti', 'income1', 'income1_low', 'income1_medium',\n",
       "       'income1_high', 'income1_very_high', 'open_loans_credit_low',\n",
       "       'open_loans_credit_medium', 'open_loans_credit_high',\n",
       "       'open_loans_credit_very_high'],\n",
       "      dtype='object')"
      ]
     },
     "execution_count": 95,
     "metadata": {},
     "output_type": "execute_result"
    }
   ],
   "source": [
    "test = encode_and_bind(test,'income1')\n",
    "test = encode_and_bind(test,'open_loans_credit')\n",
    "test.columns"
   ]
  },
  {
   "cell_type": "code",
   "execution_count": 96,
   "id": "e3eeee2b",
   "metadata": {},
   "outputs": [],
   "source": [
    "drop_cols = ['iir','income','open_loans','mortagage','income1','open_loans_credit']\n",
    "test.drop(drop_cols,axis=1,inplace=True)"
   ]
  },
  {
   "cell_type": "code",
   "execution_count": 98,
   "id": "d70a7156",
   "metadata": {},
   "outputs": [],
   "source": [
    "submission = test[['cust_id']]\n",
    "\n",
    "test_data = test.drop(['cust_id','target'],axis=1)"
   ]
  },
  {
   "cell_type": "code",
   "execution_count": 101,
   "id": "38f7be9d",
   "metadata": {},
   "outputs": [],
   "source": [
    "y_test_hat = gs2.predict(test_data)\n",
    "\n",
    "y_test_prob = gs2.predict_proba(test_data)"
   ]
  },
  {
   "cell_type": "code",
   "execution_count": 103,
   "id": "f05ecd4e",
   "metadata": {},
   "outputs": [
    {
     "data": {
      "text/plain": [
       "array([0, 0, 0, ..., 1, 0, 0])"
      ]
     },
     "execution_count": 103,
     "metadata": {},
     "output_type": "execute_result"
    }
   ],
   "source": [
    "y_test_hat"
   ]
  },
  {
   "cell_type": "code",
   "execution_count": 109,
   "id": "95c38187",
   "metadata": {},
   "outputs": [],
   "source": [
    "submission['delinquency'] = y_test_hat\n",
    "submission[['prob_not_delinquent','prob_delinqent']] = y_test_prob"
   ]
  },
  {
   "cell_type": "code",
   "execution_count": 113,
   "id": "9d8ed328",
   "metadata": {},
   "outputs": [
    {
     "data": {
      "text/html": [
       "<div>\n",
       "<style scoped>\n",
       "    .dataframe tbody tr th:only-of-type {\n",
       "        vertical-align: middle;\n",
       "    }\n",
       "\n",
       "    .dataframe tbody tr th {\n",
       "        vertical-align: top;\n",
       "    }\n",
       "\n",
       "    .dataframe thead th {\n",
       "        text-align: right;\n",
       "    }\n",
       "</style>\n",
       "<table border=\"1\" class=\"dataframe\">\n",
       "  <thead>\n",
       "    <tr style=\"text-align: right;\">\n",
       "      <th></th>\n",
       "      <th>cust_id</th>\n",
       "      <th>delinquency</th>\n",
       "      <th>prob_not_delinquent</th>\n",
       "      <th>prob_delinqent</th>\n",
       "    </tr>\n",
       "  </thead>\n",
       "  <tbody>\n",
       "    <tr>\n",
       "      <th>0</th>\n",
       "      <td>9387</td>\n",
       "      <td>0</td>\n",
       "      <td>0.688635</td>\n",
       "      <td>0.311365</td>\n",
       "    </tr>\n",
       "    <tr>\n",
       "      <th>1</th>\n",
       "      <td>82418</td>\n",
       "      <td>0</td>\n",
       "      <td>0.700676</td>\n",
       "      <td>0.299324</td>\n",
       "    </tr>\n",
       "    <tr>\n",
       "      <th>2</th>\n",
       "      <td>7616</td>\n",
       "      <td>0</td>\n",
       "      <td>0.691991</td>\n",
       "      <td>0.308009</td>\n",
       "    </tr>\n",
       "    <tr>\n",
       "      <th>3</th>\n",
       "      <td>100220</td>\n",
       "      <td>0</td>\n",
       "      <td>0.686682</td>\n",
       "      <td>0.313318</td>\n",
       "    </tr>\n",
       "    <tr>\n",
       "      <th>4</th>\n",
       "      <td>42045</td>\n",
       "      <td>0</td>\n",
       "      <td>0.714215</td>\n",
       "      <td>0.285785</td>\n",
       "    </tr>\n",
       "  </tbody>\n",
       "</table>\n",
       "</div>"
      ],
      "text/plain": [
       "   cust_id  delinquency  prob_not_delinquent  prob_delinqent\n",
       "0     9387            0             0.688635        0.311365\n",
       "1    82418            0             0.700676        0.299324\n",
       "2     7616            0             0.691991        0.308009\n",
       "3   100220            0             0.686682        0.313318\n",
       "4    42045            0             0.714215        0.285785"
      ]
     },
     "execution_count": 113,
     "metadata": {},
     "output_type": "execute_result"
    }
   ],
   "source": [
    "submission.head()"
   ]
  },
  {
   "cell_type": "code",
   "execution_count": 114,
   "id": "53e54989",
   "metadata": {},
   "outputs": [],
   "source": [
    "submission.to_csv(r'/Users/satyasriallaka/Documents/accenture_ml_problem/prediction.csv',index=False)"
   ]
  },
  {
   "cell_type": "code",
   "execution_count": null,
   "id": "b452679b",
   "metadata": {},
   "outputs": [],
   "source": []
  }
 ],
 "metadata": {
  "kernelspec": {
   "display_name": "Python 3 (ipykernel)",
   "language": "python",
   "name": "python3"
  },
  "language_info": {
   "codemirror_mode": {
    "name": "ipython",
    "version": 3
   },
   "file_extension": ".py",
   "mimetype": "text/x-python",
   "name": "python",
   "nbconvert_exporter": "python",
   "pygments_lexer": "ipython3",
   "version": "3.9.7"
  }
 },
 "nbformat": 4,
 "nbformat_minor": 5
}
